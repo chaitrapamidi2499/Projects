{
 "cells": [
  {
   "cell_type": "raw",
   "id": "38da4ace-ce27-46c8-8d65-372b318af837",
   "metadata": {},
   "source": [
    "Make- The manufacturer or brand of the car. It represents the company that produces the vehicle.\n",
    "Model - The specific model name or number of the car. It distinguishes different vehicles produced by the same make.\n",
    "Year -  The year the car was manufactured or released. It represents the car's age.\n",
    "Engine Fuel Type - The type of fuel the car's engine uses.\n",
    "Engine HP - The horsepower (HP) of the car's engine. It measures the engine's power output.\n",
    "Engine Cylinders - The number of cylinders in the car's engine\t\n",
    "Transmission Type - The type of transmission system the car uses\t\n",
    "Driven_Wheels - The type of wheels that receive power from the engine\t\n",
    "Number of Doors\t- The number of doors on the car\n",
    "Market Category\t- The market segment or category of the car\n",
    "Vehicle Size - The overall size of the car\n",
    "Vehicle Style - The style or body type of the car\t\n",
    "highway MPG - The miles per gallon (MPG) the car achieves while driving on the highway. It measures fuel efficiency on highways.\n",
    "city mpg - \tThe miles per gallon (MPG) the car achieves in city driving conditions. It measures fuel efficiency in urban areas.\n",
    "MSRP - Manufacturer's Suggested Retail Price. The recommended selling price of the car set by the manufacturer.\n",
    "\n",
    "\n",
    "Cars dataset with features including make, model, year, engine, and other properties of the car used to predict its price."
   ]
  },
  {
   "cell_type": "code",
   "execution_count": 1,
   "id": "42c2d474-0f24-48a1-97e9-90c088641acc",
   "metadata": {},
   "outputs": [
    {
     "data": {
      "text/plain": [
       "'E:\\\\T1\\\\FOML\\\\EDA Project'"
      ]
     },
     "execution_count": 1,
     "metadata": {},
     "output_type": "execute_result"
    }
   ],
   "source": [
    "#what is my current working directory?\n",
    "\n",
    "import os\n",
    "os.getcwd()"
   ]
  },
  {
   "cell_type": "code",
   "execution_count": 3,
   "id": "ee21f2ce-0d63-4dfc-9293-e22a6aca0d46",
   "metadata": {},
   "outputs": [],
   "source": [
    "#how to import the dataset?\n",
    "\n",
    "import pandas as pd\n",
    "import numpy as np\n",
    "df_price = pd.read_csv('Car features and MSRP.csv')"
   ]
  },
  {
   "cell_type": "code",
   "execution_count": 224,
   "id": "fb34332a-bea4-4bac-8278-dd8b1932329d",
   "metadata": {},
   "outputs": [
    {
     "data": {
      "text/html": [
       "<div>\n",
       "<style scoped>\n",
       "    .dataframe tbody tr th:only-of-type {\n",
       "        vertical-align: middle;\n",
       "    }\n",
       "\n",
       "    .dataframe tbody tr th {\n",
       "        vertical-align: top;\n",
       "    }\n",
       "\n",
       "    .dataframe thead th {\n",
       "        text-align: right;\n",
       "    }\n",
       "</style>\n",
       "<table border=\"1\" class=\"dataframe\">\n",
       "  <thead>\n",
       "    <tr style=\"text-align: right;\">\n",
       "      <th></th>\n",
       "      <th>Make</th>\n",
       "      <th>Model</th>\n",
       "      <th>Year</th>\n",
       "      <th>Engine_Fuel_Type</th>\n",
       "      <th>Engine_HP</th>\n",
       "      <th>Engine_Cylinders</th>\n",
       "      <th>Transmission_Type</th>\n",
       "      <th>Driven_Wheels</th>\n",
       "      <th>Number_of_Doors</th>\n",
       "      <th>Market_Category</th>\n",
       "      <th>Vehicle_Size</th>\n",
       "      <th>Vehicle_Style</th>\n",
       "      <th>Highway_MPG</th>\n",
       "      <th>City_MPG</th>\n",
       "      <th>MSRP</th>\n",
       "    </tr>\n",
       "  </thead>\n",
       "  <tbody>\n",
       "    <tr>\n",
       "      <th>0</th>\n",
       "      <td>BMW</td>\n",
       "      <td>1 Series M</td>\n",
       "      <td>2011</td>\n",
       "      <td>premium unleaded (required)</td>\n",
       "      <td>335.0</td>\n",
       "      <td>6.0</td>\n",
       "      <td>MANUAL</td>\n",
       "      <td>rear wheel drive</td>\n",
       "      <td>2.0</td>\n",
       "      <td>Factory Tuner,Luxury,High-Performance</td>\n",
       "      <td>Compact</td>\n",
       "      <td>Coupe</td>\n",
       "      <td>26</td>\n",
       "      <td>19</td>\n",
       "      <td>46135</td>\n",
       "    </tr>\n",
       "    <tr>\n",
       "      <th>1</th>\n",
       "      <td>BMW</td>\n",
       "      <td>1 Series</td>\n",
       "      <td>2011</td>\n",
       "      <td>premium unleaded (required)</td>\n",
       "      <td>300.0</td>\n",
       "      <td>6.0</td>\n",
       "      <td>MANUAL</td>\n",
       "      <td>rear wheel drive</td>\n",
       "      <td>2.0</td>\n",
       "      <td>Luxury,Performance</td>\n",
       "      <td>Compact</td>\n",
       "      <td>Convertible</td>\n",
       "      <td>28</td>\n",
       "      <td>19</td>\n",
       "      <td>40650</td>\n",
       "    </tr>\n",
       "    <tr>\n",
       "      <th>2</th>\n",
       "      <td>BMW</td>\n",
       "      <td>1 Series</td>\n",
       "      <td>2011</td>\n",
       "      <td>premium unleaded (required)</td>\n",
       "      <td>300.0</td>\n",
       "      <td>6.0</td>\n",
       "      <td>MANUAL</td>\n",
       "      <td>rear wheel drive</td>\n",
       "      <td>2.0</td>\n",
       "      <td>Luxury,High-Performance</td>\n",
       "      <td>Compact</td>\n",
       "      <td>Coupe</td>\n",
       "      <td>28</td>\n",
       "      <td>20</td>\n",
       "      <td>36350</td>\n",
       "    </tr>\n",
       "    <tr>\n",
       "      <th>3</th>\n",
       "      <td>BMW</td>\n",
       "      <td>1 Series</td>\n",
       "      <td>2011</td>\n",
       "      <td>premium unleaded (required)</td>\n",
       "      <td>230.0</td>\n",
       "      <td>6.0</td>\n",
       "      <td>MANUAL</td>\n",
       "      <td>rear wheel drive</td>\n",
       "      <td>2.0</td>\n",
       "      <td>Luxury,Performance</td>\n",
       "      <td>Compact</td>\n",
       "      <td>Coupe</td>\n",
       "      <td>28</td>\n",
       "      <td>18</td>\n",
       "      <td>29450</td>\n",
       "    </tr>\n",
       "    <tr>\n",
       "      <th>4</th>\n",
       "      <td>BMW</td>\n",
       "      <td>1 Series</td>\n",
       "      <td>2011</td>\n",
       "      <td>premium unleaded (required)</td>\n",
       "      <td>230.0</td>\n",
       "      <td>6.0</td>\n",
       "      <td>MANUAL</td>\n",
       "      <td>rear wheel drive</td>\n",
       "      <td>2.0</td>\n",
       "      <td>Luxury</td>\n",
       "      <td>Compact</td>\n",
       "      <td>Convertible</td>\n",
       "      <td>28</td>\n",
       "      <td>18</td>\n",
       "      <td>34500</td>\n",
       "    </tr>\n",
       "  </tbody>\n",
       "</table>\n",
       "</div>"
      ],
      "text/plain": [
       "  Make       Model  Year             Engine_Fuel_Type  Engine_HP  \\\n",
       "0  BMW  1 Series M  2011  premium unleaded (required)      335.0   \n",
       "1  BMW    1 Series  2011  premium unleaded (required)      300.0   \n",
       "2  BMW    1 Series  2011  premium unleaded (required)      300.0   \n",
       "3  BMW    1 Series  2011  premium unleaded (required)      230.0   \n",
       "4  BMW    1 Series  2011  premium unleaded (required)      230.0   \n",
       "\n",
       "   Engine_Cylinders Transmission_Type     Driven_Wheels  Number_of_Doors  \\\n",
       "0               6.0            MANUAL  rear wheel drive              2.0   \n",
       "1               6.0            MANUAL  rear wheel drive              2.0   \n",
       "2               6.0            MANUAL  rear wheel drive              2.0   \n",
       "3               6.0            MANUAL  rear wheel drive              2.0   \n",
       "4               6.0            MANUAL  rear wheel drive              2.0   \n",
       "\n",
       "                         Market_Category Vehicle_Size Vehicle_Style  \\\n",
       "0  Factory Tuner,Luxury,High-Performance      Compact         Coupe   \n",
       "1                     Luxury,Performance      Compact   Convertible   \n",
       "2                Luxury,High-Performance      Compact         Coupe   \n",
       "3                     Luxury,Performance      Compact         Coupe   \n",
       "4                                 Luxury      Compact   Convertible   \n",
       "\n",
       "   Highway_MPG  City_MPG   MSRP  \n",
       "0           26        19  46135  \n",
       "1           28        19  40650  \n",
       "2           28        20  36350  \n",
       "3           28        18  29450  \n",
       "4           28        18  34500  "
      ]
     },
     "execution_count": 224,
     "metadata": {},
     "output_type": "execute_result"
    }
   ],
   "source": [
    "#get the top 5 rows from the dataset\n",
    "\n",
    "df_price.head()"
   ]
  },
  {
   "cell_type": "code",
   "execution_count": 225,
   "id": "9e0e3a65-eff3-419e-9b48-929d58a86fff",
   "metadata": {},
   "outputs": [
    {
     "data": {
      "text/html": [
       "<div>\n",
       "<style scoped>\n",
       "    .dataframe tbody tr th:only-of-type {\n",
       "        vertical-align: middle;\n",
       "    }\n",
       "\n",
       "    .dataframe tbody tr th {\n",
       "        vertical-align: top;\n",
       "    }\n",
       "\n",
       "    .dataframe thead th {\n",
       "        text-align: right;\n",
       "    }\n",
       "</style>\n",
       "<table border=\"1\" class=\"dataframe\">\n",
       "  <thead>\n",
       "    <tr style=\"text-align: right;\">\n",
       "      <th></th>\n",
       "      <th>Make</th>\n",
       "      <th>Model</th>\n",
       "      <th>Year</th>\n",
       "      <th>Engine_Fuel_Type</th>\n",
       "      <th>Engine_HP</th>\n",
       "      <th>Engine_Cylinders</th>\n",
       "      <th>Transmission_Type</th>\n",
       "      <th>Driven_Wheels</th>\n",
       "      <th>Number_of_Doors</th>\n",
       "      <th>Market_Category</th>\n",
       "      <th>Vehicle_Size</th>\n",
       "      <th>Vehicle_Style</th>\n",
       "      <th>Highway_MPG</th>\n",
       "      <th>City_MPG</th>\n",
       "      <th>MSRP</th>\n",
       "    </tr>\n",
       "  </thead>\n",
       "  <tbody>\n",
       "    <tr>\n",
       "      <th>11912</th>\n",
       "      <td>Acura</td>\n",
       "      <td>ZDX</td>\n",
       "      <td>2013</td>\n",
       "      <td>premium unleaded (recommended)</td>\n",
       "      <td>300.0</td>\n",
       "      <td>6.0</td>\n",
       "      <td>AUTOMATIC</td>\n",
       "      <td>all wheel drive</td>\n",
       "      <td>4.0</td>\n",
       "      <td>Crossover,Hatchback,Luxury</td>\n",
       "      <td>Midsize</td>\n",
       "      <td>4dr Hatchback</td>\n",
       "      <td>23</td>\n",
       "      <td>16</td>\n",
       "      <td>50920</td>\n",
       "    </tr>\n",
       "    <tr>\n",
       "      <th>11913</th>\n",
       "      <td>Lincoln</td>\n",
       "      <td>Zephyr</td>\n",
       "      <td>2006</td>\n",
       "      <td>regular unleaded</td>\n",
       "      <td>221.0</td>\n",
       "      <td>6.0</td>\n",
       "      <td>AUTOMATIC</td>\n",
       "      <td>front wheel drive</td>\n",
       "      <td>4.0</td>\n",
       "      <td>Luxury</td>\n",
       "      <td>Midsize</td>\n",
       "      <td>Sedan</td>\n",
       "      <td>26</td>\n",
       "      <td>17</td>\n",
       "      <td>28995</td>\n",
       "    </tr>\n",
       "  </tbody>\n",
       "</table>\n",
       "</div>"
      ],
      "text/plain": [
       "          Make   Model  Year                Engine_Fuel_Type  Engine_HP  \\\n",
       "11912    Acura     ZDX  2013  premium unleaded (recommended)      300.0   \n",
       "11913  Lincoln  Zephyr  2006                regular unleaded      221.0   \n",
       "\n",
       "       Engine_Cylinders Transmission_Type      Driven_Wheels  Number_of_Doors  \\\n",
       "11912               6.0         AUTOMATIC    all wheel drive              4.0   \n",
       "11913               6.0         AUTOMATIC  front wheel drive              4.0   \n",
       "\n",
       "                  Market_Category Vehicle_Size  Vehicle_Style  Highway_MPG  \\\n",
       "11912  Crossover,Hatchback,Luxury      Midsize  4dr Hatchback           23   \n",
       "11913                      Luxury      Midsize          Sedan           26   \n",
       "\n",
       "       City_MPG   MSRP  \n",
       "11912        16  50920  \n",
       "11913        17  28995  "
      ]
     },
     "execution_count": 225,
     "metadata": {},
     "output_type": "execute_result"
    }
   ],
   "source": [
    "#get the last 2 rows from the dataset\n",
    "\n",
    "df_price.tail(2)"
   ]
  },
  {
   "cell_type": "code",
   "execution_count": 226,
   "id": "33c4b736-c5f6-44f9-8390-2b7a865f2f57",
   "metadata": {},
   "outputs": [
    {
     "data": {
      "text/plain": [
       "(11914, 15)"
      ]
     },
     "execution_count": 226,
     "metadata": {},
     "output_type": "execute_result"
    }
   ],
   "source": [
    "#what is the shape of the dataset? - (rows x columns)\n",
    "\n",
    "df_price.shape"
   ]
  },
  {
   "cell_type": "code",
   "execution_count": 227,
   "id": "cc0dd5b7-6e6f-473b-8003-fa1926252dce",
   "metadata": {},
   "outputs": [
    {
     "name": "stdout",
     "output_type": "stream",
     "text": [
      "<class 'pandas.core.frame.DataFrame'>\n",
      "RangeIndex: 11914 entries, 0 to 11913\n",
      "Data columns (total 15 columns):\n",
      " #   Column             Non-Null Count  Dtype  \n",
      "---  ------             --------------  -----  \n",
      " 0   Make               11914 non-null  object \n",
      " 1   Model              11914 non-null  object \n",
      " 2   Year               11914 non-null  int64  \n",
      " 3   Engine_Fuel_Type   11911 non-null  object \n",
      " 4   Engine_HP          11845 non-null  float64\n",
      " 5   Engine_Cylinders   11884 non-null  float64\n",
      " 6   Transmission_Type  11914 non-null  object \n",
      " 7   Driven_Wheels      11914 non-null  object \n",
      " 8   Number_of_Doors    11908 non-null  float64\n",
      " 9   Market_Category    8172 non-null   object \n",
      " 10  Vehicle_Size       11914 non-null  object \n",
      " 11  Vehicle_Style      11914 non-null  object \n",
      " 12  Highway_MPG        11914 non-null  int64  \n",
      " 13  City_MPG           11914 non-null  int64  \n",
      " 14  MSRP               11914 non-null  int64  \n",
      "dtypes: float64(3), int64(4), object(8)\n",
      "memory usage: 1.4+ MB\n"
     ]
    }
   ],
   "source": [
    "#what is the column index, non-null count, datatypes?\n",
    "df_price.info()"
   ]
  },
  {
   "cell_type": "code",
   "execution_count": 228,
   "id": "68e43d76-430c-4bb1-a345-e9f913a72c1f",
   "metadata": {},
   "outputs": [
    {
     "data": {
      "text/plain": [
       "Make                    0\n",
       "Model                   0\n",
       "Year                    0\n",
       "Engine_Fuel_Type        3\n",
       "Engine_HP              69\n",
       "Engine_Cylinders       30\n",
       "Transmission_Type       0\n",
       "Driven_Wheels           0\n",
       "Number_of_Doors         6\n",
       "Market_Category      3742\n",
       "Vehicle_Size            0\n",
       "Vehicle_Style           0\n",
       "Highway_MPG             0\n",
       "City_MPG                0\n",
       "MSRP                    0\n",
       "dtype: int64"
      ]
     },
     "execution_count": 228,
     "metadata": {},
     "output_type": "execute_result"
    }
   ],
   "source": [
    "#how many null values are there in each column?\n",
    "\n",
    "df_price.isna().sum()"
   ]
  },
  {
   "cell_type": "code",
   "execution_count": 229,
   "id": "b7403576-54ba-472c-8495-397d94973be9",
   "metadata": {},
   "outputs": [
    {
     "data": {
      "text/plain": [
       "Make                  object\n",
       "Model                 object\n",
       "Year                   int64\n",
       "Engine_Fuel_Type      object\n",
       "Engine_HP            float64\n",
       "Engine_Cylinders     float64\n",
       "Transmission_Type     object\n",
       "Driven_Wheels         object\n",
       "Number_of_Doors      float64\n",
       "Market_Category       object\n",
       "Vehicle_Size          object\n",
       "Vehicle_Style         object\n",
       "Highway_MPG            int64\n",
       "City_MPG               int64\n",
       "MSRP                   int64\n",
       "dtype: object"
      ]
     },
     "execution_count": 229,
     "metadata": {},
     "output_type": "execute_result"
    }
   ],
   "source": [
    "#what is the datatype of each column?\n",
    "\n",
    "df_price.dtypes"
   ]
  },
  {
   "cell_type": "code",
   "execution_count": 230,
   "id": "406e08e5-779c-4798-ad2c-f77fe8ae4dc8",
   "metadata": {},
   "outputs": [
    {
     "data": {
      "text/html": [
       "<div>\n",
       "<style scoped>\n",
       "    .dataframe tbody tr th:only-of-type {\n",
       "        vertical-align: middle;\n",
       "    }\n",
       "\n",
       "    .dataframe tbody tr th {\n",
       "        vertical-align: top;\n",
       "    }\n",
       "\n",
       "    .dataframe thead th {\n",
       "        text-align: right;\n",
       "    }\n",
       "</style>\n",
       "<table border=\"1\" class=\"dataframe\">\n",
       "  <thead>\n",
       "    <tr style=\"text-align: right;\">\n",
       "      <th></th>\n",
       "      <th>Year</th>\n",
       "      <th>Engine_HP</th>\n",
       "      <th>Engine_Cylinders</th>\n",
       "      <th>Number_of_Doors</th>\n",
       "      <th>Highway_MPG</th>\n",
       "      <th>City_MPG</th>\n",
       "      <th>MSRP</th>\n",
       "    </tr>\n",
       "  </thead>\n",
       "  <tbody>\n",
       "    <tr>\n",
       "      <th>count</th>\n",
       "      <td>11914.000000</td>\n",
       "      <td>11845.00000</td>\n",
       "      <td>11884.000000</td>\n",
       "      <td>11908.000000</td>\n",
       "      <td>11914.000000</td>\n",
       "      <td>11914.000000</td>\n",
       "      <td>1.191400e+04</td>\n",
       "    </tr>\n",
       "    <tr>\n",
       "      <th>mean</th>\n",
       "      <td>2010.384338</td>\n",
       "      <td>249.38607</td>\n",
       "      <td>5.628829</td>\n",
       "      <td>3.436093</td>\n",
       "      <td>26.637485</td>\n",
       "      <td>19.733255</td>\n",
       "      <td>4.059474e+04</td>\n",
       "    </tr>\n",
       "    <tr>\n",
       "      <th>std</th>\n",
       "      <td>7.579740</td>\n",
       "      <td>109.19187</td>\n",
       "      <td>1.780559</td>\n",
       "      <td>0.881315</td>\n",
       "      <td>8.863001</td>\n",
       "      <td>8.987798</td>\n",
       "      <td>6.010910e+04</td>\n",
       "    </tr>\n",
       "    <tr>\n",
       "      <th>min</th>\n",
       "      <td>1990.000000</td>\n",
       "      <td>55.00000</td>\n",
       "      <td>0.000000</td>\n",
       "      <td>2.000000</td>\n",
       "      <td>12.000000</td>\n",
       "      <td>7.000000</td>\n",
       "      <td>2.000000e+03</td>\n",
       "    </tr>\n",
       "    <tr>\n",
       "      <th>25%</th>\n",
       "      <td>2007.000000</td>\n",
       "      <td>170.00000</td>\n",
       "      <td>4.000000</td>\n",
       "      <td>2.000000</td>\n",
       "      <td>22.000000</td>\n",
       "      <td>16.000000</td>\n",
       "      <td>2.100000e+04</td>\n",
       "    </tr>\n",
       "    <tr>\n",
       "      <th>50%</th>\n",
       "      <td>2015.000000</td>\n",
       "      <td>227.00000</td>\n",
       "      <td>6.000000</td>\n",
       "      <td>4.000000</td>\n",
       "      <td>26.000000</td>\n",
       "      <td>18.000000</td>\n",
       "      <td>2.999500e+04</td>\n",
       "    </tr>\n",
       "    <tr>\n",
       "      <th>75%</th>\n",
       "      <td>2016.000000</td>\n",
       "      <td>300.00000</td>\n",
       "      <td>6.000000</td>\n",
       "      <td>4.000000</td>\n",
       "      <td>30.000000</td>\n",
       "      <td>22.000000</td>\n",
       "      <td>4.223125e+04</td>\n",
       "    </tr>\n",
       "    <tr>\n",
       "      <th>max</th>\n",
       "      <td>2017.000000</td>\n",
       "      <td>1001.00000</td>\n",
       "      <td>16.000000</td>\n",
       "      <td>4.000000</td>\n",
       "      <td>354.000000</td>\n",
       "      <td>137.000000</td>\n",
       "      <td>2.065902e+06</td>\n",
       "    </tr>\n",
       "  </tbody>\n",
       "</table>\n",
       "</div>"
      ],
      "text/plain": [
       "               Year    Engine_HP  Engine_Cylinders  Number_of_Doors  \\\n",
       "count  11914.000000  11845.00000      11884.000000     11908.000000   \n",
       "mean    2010.384338    249.38607          5.628829         3.436093   \n",
       "std        7.579740    109.19187          1.780559         0.881315   \n",
       "min     1990.000000     55.00000          0.000000         2.000000   \n",
       "25%     2007.000000    170.00000          4.000000         2.000000   \n",
       "50%     2015.000000    227.00000          6.000000         4.000000   \n",
       "75%     2016.000000    300.00000          6.000000         4.000000   \n",
       "max     2017.000000   1001.00000         16.000000         4.000000   \n",
       "\n",
       "        Highway_MPG      City_MPG          MSRP  \n",
       "count  11914.000000  11914.000000  1.191400e+04  \n",
       "mean      26.637485     19.733255  4.059474e+04  \n",
       "std        8.863001      8.987798  6.010910e+04  \n",
       "min       12.000000      7.000000  2.000000e+03  \n",
       "25%       22.000000     16.000000  2.100000e+04  \n",
       "50%       26.000000     18.000000  2.999500e+04  \n",
       "75%       30.000000     22.000000  4.223125e+04  \n",
       "max      354.000000    137.000000  2.065902e+06  "
      ]
     },
     "execution_count": 230,
     "metadata": {},
     "output_type": "execute_result"
    }
   ],
   "source": [
    "#descriptive statistics of each numerical column\n",
    "\n",
    "df_price.describe()"
   ]
  },
  {
   "cell_type": "code",
   "execution_count": 231,
   "id": "6299cc66-cdf6-4d4a-947f-96fa929228c7",
   "metadata": {},
   "outputs": [
    {
     "name": "stdout",
     "output_type": "stream",
     "text": [
      "Year                 2010.384338\n",
      "Engine_HP             249.386070\n",
      "Engine_Cylinders        5.628829\n",
      "Number_of_Doors         3.436093\n",
      "Highway_MPG            26.637485\n",
      "City_MPG               19.733255\n",
      "MSRP                40594.737032\n",
      "dtype: float64\n"
     ]
    }
   ],
   "source": [
    "#How to get specific descriptive statistics of all the numerical values by default in the dataset\n",
    "\n",
    "numeric_df = df_price.select_dtypes(include='number')\n",
    "mean_values = numeric_df.mean()\n",
    "print(mean_values)"
   ]
  },
  {
   "cell_type": "markdown",
   "id": "f0bc3103-0136-487d-8f1c-fcdde133ee06",
   "metadata": {},
   "source": [
    "Numerical Attributes - Year, Engine HP, Engine Cylinders, Number of Doors, highway MPG, city mpg, Popularity, MSRP \n",
    "\n",
    "Categorical Attributes - Make, Model, Engine Fuel Type, Transmission Type, Driven_Wheels, Market Category, Vehicle Size, Vehicle Style"
   ]
  },
  {
   "cell_type": "code",
   "execution_count": 232,
   "id": "0222b5bc-d011-4184-8c01-e82ffb405be3",
   "metadata": {},
   "outputs": [
    {
     "data": {
      "text/plain": [
       "40594.737032063116"
      ]
     },
     "execution_count": 232,
     "metadata": {},
     "output_type": "execute_result"
    }
   ],
   "source": [
    "#mean of MSRP\n",
    "\n",
    "df_price['MSRP'].mean()"
   ]
  },
  {
   "cell_type": "markdown",
   "id": "ec15d31a-40c1-4a27-9404-be5e7b28eef2",
   "metadata": {},
   "source": [
    "The average is $40594.74, so the dataset consists of cars from mid-high range vehicles"
   ]
  },
  {
   "cell_type": "markdown",
   "id": "34d5723b-78d3-4a94-9764-3644cfbe027c",
   "metadata": {},
   "source": [
    "Comparing the highway_mpg of three manufacturers - BMW, Audi, Mercedes-Benz"
   ]
  },
  {
   "cell_type": "code",
   "execution_count": 233,
   "id": "214cdfd2-ac47-48be-b3ee-56d0a6420ef0",
   "metadata": {},
   "outputs": [],
   "source": [
    "df_highway_mpg = df_price[df_price.Make == \"BMW\"]"
   ]
  },
  {
   "cell_type": "code",
   "execution_count": 234,
   "id": "8baa33f6-d2a8-4d3d-a462-0659f3d40803",
   "metadata": {},
   "outputs": [
    {
     "data": {
      "text/plain": [
       "29.24550898203593"
      ]
     },
     "execution_count": 234,
     "metadata": {},
     "output_type": "execute_result"
    }
   ],
   "source": [
    "df_highway_mpg['Highway_MPG'].mean()"
   ]
  },
  {
   "cell_type": "code",
   "execution_count": 235,
   "id": "e44714bd-f875-4662-a23c-eb10831b3ff6",
   "metadata": {},
   "outputs": [],
   "source": [
    "df_highway_mpg = df_price[df_price.Make == \"Audi\"]"
   ]
  },
  {
   "cell_type": "code",
   "execution_count": 236,
   "id": "057302c1-dde5-4a57-bec7-5722715083d5",
   "metadata": {},
   "outputs": [
    {
     "data": {
      "text/plain": [
       "28.823170731707318"
      ]
     },
     "execution_count": 236,
     "metadata": {},
     "output_type": "execute_result"
    }
   ],
   "source": [
    "df_highway_mpg['Highway_MPG'].mean()"
   ]
  },
  {
   "cell_type": "code",
   "execution_count": 237,
   "id": "99eaf8db-0526-4c1b-813b-b9151526ddfc",
   "metadata": {},
   "outputs": [],
   "source": [
    "df_highway_mpg = df_price[df_price.Make == \"Mercedes-Benz\"]"
   ]
  },
  {
   "cell_type": "code",
   "execution_count": 238,
   "id": "0ae8431c-ac23-40ef-baa4-ed37a0bdc63f",
   "metadata": {},
   "outputs": [
    {
     "data": {
      "text/plain": [
       "24.8300283286119"
      ]
     },
     "execution_count": 238,
     "metadata": {},
     "output_type": "execute_result"
    }
   ],
   "source": [
    "df_highway_mpg['Highway_MPG'].mean()"
   ]
  },
  {
   "cell_type": "markdown",
   "id": "be5834a3-9df0-4868-8ec3-a499381d0e38",
   "metadata": {},
   "source": [
    "The average fuel efficiency on the highway is greater for BMW compared to Audi and Mercedes-Benz"
   ]
  },
  {
   "cell_type": "code",
   "execution_count": 239,
   "id": "55d8e6cc-e48d-4741-844c-847a1d41bd47",
   "metadata": {},
   "outputs": [
    {
     "name": "stdout",
     "output_type": "stream",
     "text": [
      "Year                 2015.0\n",
      "Engine_HP             227.0\n",
      "Engine_Cylinders        6.0\n",
      "Number_of_Doors         4.0\n",
      "Highway_MPG            26.0\n",
      "City_MPG               18.0\n",
      "MSRP                29995.0\n",
      "dtype: float64\n"
     ]
    }
   ],
   "source": [
    "#what is the median values of all the numeric datatypes\n",
    "\n",
    "numeric_df = df_price.select_dtypes(include='number')\n",
    "median_values = numeric_df.median()\n",
    "print(median_values)"
   ]
  },
  {
   "cell_type": "code",
   "execution_count": 240,
   "id": "794e035c-40e2-44ae-87f9-8a1882ed0889",
   "metadata": {},
   "outputs": [
    {
     "data": {
      "text/plain": [
       "2015.0"
      ]
     },
     "execution_count": 240,
     "metadata": {},
     "output_type": "execute_result"
    }
   ],
   "source": [
    "#How is the years distributed?\n",
    "\n",
    "df_price['Year'].median()"
   ]
  },
  {
   "cell_type": "markdown",
   "id": "f8f383f0-e11a-47c7-ad84-7e090ea581ff",
   "metadata": {},
   "source": [
    "This is the middle value of the dataset when sorted by year. \n",
    "It indicates that 50% of the cars are from 2015 or newer, and 50% are from 2015 or older."
   ]
  },
  {
   "cell_type": "code",
   "execution_count": 241,
   "id": "bf4b5d8d-df44-425f-81ab-fc19af7e2288",
   "metadata": {},
   "outputs": [
    {
     "data": {
      "text/plain": [
       "2017"
      ]
     },
     "execution_count": 241,
     "metadata": {},
     "output_type": "execute_result"
    }
   ],
   "source": [
    "df_price['Year'].max()"
   ]
  },
  {
   "cell_type": "code",
   "execution_count": 242,
   "id": "e03f1e17-24d8-4307-aa16-e34a6b661741",
   "metadata": {},
   "outputs": [
    {
     "data": {
      "text/plain": [
       "1990"
      ]
     },
     "execution_count": 242,
     "metadata": {},
     "output_type": "execute_result"
    }
   ],
   "source": [
    "df_price['Year'].min()"
   ]
  },
  {
   "cell_type": "markdown",
   "id": "5bbeab8d-e0e3-4c7b-ac2e-266279dc62b2",
   "metadata": {},
   "source": [
    "The distribution of years is not uniform. \n",
    "The median being closer to the maximum year indicates that more recent years are more common in the dataset. "
   ]
  },
  {
   "cell_type": "code",
   "execution_count": 243,
   "id": "86fb181a-5e82-4a3e-8ff8-f3836678b273",
   "metadata": {},
   "outputs": [
    {
     "data": {
      "text/html": [
       "<div>\n",
       "<style scoped>\n",
       "    .dataframe tbody tr th:only-of-type {\n",
       "        vertical-align: middle;\n",
       "    }\n",
       "\n",
       "    .dataframe tbody tr th {\n",
       "        vertical-align: top;\n",
       "    }\n",
       "\n",
       "    .dataframe thead th {\n",
       "        text-align: right;\n",
       "    }\n",
       "</style>\n",
       "<table border=\"1\" class=\"dataframe\">\n",
       "  <thead>\n",
       "    <tr style=\"text-align: right;\">\n",
       "      <th></th>\n",
       "      <th>Make</th>\n",
       "      <th>Model</th>\n",
       "      <th>Engine_Fuel_Type</th>\n",
       "      <th>Transmission_Type</th>\n",
       "      <th>Driven_Wheels</th>\n",
       "      <th>Market_Category</th>\n",
       "      <th>Vehicle_Size</th>\n",
       "      <th>Vehicle_Style</th>\n",
       "    </tr>\n",
       "  </thead>\n",
       "  <tbody>\n",
       "    <tr>\n",
       "      <th>0</th>\n",
       "      <td>BMW</td>\n",
       "      <td>1 Series M</td>\n",
       "      <td>premium unleaded (required)</td>\n",
       "      <td>MANUAL</td>\n",
       "      <td>rear wheel drive</td>\n",
       "      <td>Factory Tuner,Luxury,High-Performance</td>\n",
       "      <td>Compact</td>\n",
       "      <td>Coupe</td>\n",
       "    </tr>\n",
       "    <tr>\n",
       "      <th>1</th>\n",
       "      <td>BMW</td>\n",
       "      <td>1 Series</td>\n",
       "      <td>premium unleaded (required)</td>\n",
       "      <td>MANUAL</td>\n",
       "      <td>rear wheel drive</td>\n",
       "      <td>Luxury,Performance</td>\n",
       "      <td>Compact</td>\n",
       "      <td>Convertible</td>\n",
       "    </tr>\n",
       "    <tr>\n",
       "      <th>2</th>\n",
       "      <td>BMW</td>\n",
       "      <td>1 Series</td>\n",
       "      <td>premium unleaded (required)</td>\n",
       "      <td>MANUAL</td>\n",
       "      <td>rear wheel drive</td>\n",
       "      <td>Luxury,High-Performance</td>\n",
       "      <td>Compact</td>\n",
       "      <td>Coupe</td>\n",
       "    </tr>\n",
       "    <tr>\n",
       "      <th>3</th>\n",
       "      <td>BMW</td>\n",
       "      <td>1 Series</td>\n",
       "      <td>premium unleaded (required)</td>\n",
       "      <td>MANUAL</td>\n",
       "      <td>rear wheel drive</td>\n",
       "      <td>Luxury,Performance</td>\n",
       "      <td>Compact</td>\n",
       "      <td>Coupe</td>\n",
       "    </tr>\n",
       "    <tr>\n",
       "      <th>4</th>\n",
       "      <td>BMW</td>\n",
       "      <td>1 Series</td>\n",
       "      <td>premium unleaded (required)</td>\n",
       "      <td>MANUAL</td>\n",
       "      <td>rear wheel drive</td>\n",
       "      <td>Luxury</td>\n",
       "      <td>Compact</td>\n",
       "      <td>Convertible</td>\n",
       "    </tr>\n",
       "    <tr>\n",
       "      <th>...</th>\n",
       "      <td>...</td>\n",
       "      <td>...</td>\n",
       "      <td>...</td>\n",
       "      <td>...</td>\n",
       "      <td>...</td>\n",
       "      <td>...</td>\n",
       "      <td>...</td>\n",
       "      <td>...</td>\n",
       "    </tr>\n",
       "    <tr>\n",
       "      <th>11909</th>\n",
       "      <td>Acura</td>\n",
       "      <td>ZDX</td>\n",
       "      <td>premium unleaded (required)</td>\n",
       "      <td>AUTOMATIC</td>\n",
       "      <td>all wheel drive</td>\n",
       "      <td>Crossover,Hatchback,Luxury</td>\n",
       "      <td>Midsize</td>\n",
       "      <td>4dr Hatchback</td>\n",
       "    </tr>\n",
       "    <tr>\n",
       "      <th>11910</th>\n",
       "      <td>Acura</td>\n",
       "      <td>ZDX</td>\n",
       "      <td>premium unleaded (required)</td>\n",
       "      <td>AUTOMATIC</td>\n",
       "      <td>all wheel drive</td>\n",
       "      <td>Crossover,Hatchback,Luxury</td>\n",
       "      <td>Midsize</td>\n",
       "      <td>4dr Hatchback</td>\n",
       "    </tr>\n",
       "    <tr>\n",
       "      <th>11911</th>\n",
       "      <td>Acura</td>\n",
       "      <td>ZDX</td>\n",
       "      <td>premium unleaded (required)</td>\n",
       "      <td>AUTOMATIC</td>\n",
       "      <td>all wheel drive</td>\n",
       "      <td>Crossover,Hatchback,Luxury</td>\n",
       "      <td>Midsize</td>\n",
       "      <td>4dr Hatchback</td>\n",
       "    </tr>\n",
       "    <tr>\n",
       "      <th>11912</th>\n",
       "      <td>Acura</td>\n",
       "      <td>ZDX</td>\n",
       "      <td>premium unleaded (recommended)</td>\n",
       "      <td>AUTOMATIC</td>\n",
       "      <td>all wheel drive</td>\n",
       "      <td>Crossover,Hatchback,Luxury</td>\n",
       "      <td>Midsize</td>\n",
       "      <td>4dr Hatchback</td>\n",
       "    </tr>\n",
       "    <tr>\n",
       "      <th>11913</th>\n",
       "      <td>Lincoln</td>\n",
       "      <td>Zephyr</td>\n",
       "      <td>regular unleaded</td>\n",
       "      <td>AUTOMATIC</td>\n",
       "      <td>front wheel drive</td>\n",
       "      <td>Luxury</td>\n",
       "      <td>Midsize</td>\n",
       "      <td>Sedan</td>\n",
       "    </tr>\n",
       "  </tbody>\n",
       "</table>\n",
       "<p>11914 rows × 8 columns</p>\n",
       "</div>"
      ],
      "text/plain": [
       "          Make       Model                Engine_Fuel_Type Transmission_Type  \\\n",
       "0          BMW  1 Series M     premium unleaded (required)            MANUAL   \n",
       "1          BMW    1 Series     premium unleaded (required)            MANUAL   \n",
       "2          BMW    1 Series     premium unleaded (required)            MANUAL   \n",
       "3          BMW    1 Series     premium unleaded (required)            MANUAL   \n",
       "4          BMW    1 Series     premium unleaded (required)            MANUAL   \n",
       "...        ...         ...                             ...               ...   \n",
       "11909    Acura         ZDX     premium unleaded (required)         AUTOMATIC   \n",
       "11910    Acura         ZDX     premium unleaded (required)         AUTOMATIC   \n",
       "11911    Acura         ZDX     premium unleaded (required)         AUTOMATIC   \n",
       "11912    Acura         ZDX  premium unleaded (recommended)         AUTOMATIC   \n",
       "11913  Lincoln      Zephyr                regular unleaded         AUTOMATIC   \n",
       "\n",
       "           Driven_Wheels                        Market_Category Vehicle_Size  \\\n",
       "0       rear wheel drive  Factory Tuner,Luxury,High-Performance      Compact   \n",
       "1       rear wheel drive                     Luxury,Performance      Compact   \n",
       "2       rear wheel drive                Luxury,High-Performance      Compact   \n",
       "3       rear wheel drive                     Luxury,Performance      Compact   \n",
       "4       rear wheel drive                                 Luxury      Compact   \n",
       "...                  ...                                    ...          ...   \n",
       "11909    all wheel drive             Crossover,Hatchback,Luxury      Midsize   \n",
       "11910    all wheel drive             Crossover,Hatchback,Luxury      Midsize   \n",
       "11911    all wheel drive             Crossover,Hatchback,Luxury      Midsize   \n",
       "11912    all wheel drive             Crossover,Hatchback,Luxury      Midsize   \n",
       "11913  front wheel drive                                 Luxury      Midsize   \n",
       "\n",
       "       Vehicle_Style  \n",
       "0              Coupe  \n",
       "1        Convertible  \n",
       "2              Coupe  \n",
       "3              Coupe  \n",
       "4        Convertible  \n",
       "...              ...  \n",
       "11909  4dr Hatchback  \n",
       "11910  4dr Hatchback  \n",
       "11911  4dr Hatchback  \n",
       "11912  4dr Hatchback  \n",
       "11913          Sedan  \n",
       "\n",
       "[11914 rows x 8 columns]"
      ]
     },
     "execution_count": 243,
     "metadata": {},
     "output_type": "execute_result"
    }
   ],
   "source": [
    "#what are the columns with non-numeric values?\n",
    "\n",
    "df_price.select_dtypes(include='object')"
   ]
  },
  {
   "cell_type": "code",
   "execution_count": 244,
   "id": "2f9afb26-f624-46a7-b068-4bc3f2713b23",
   "metadata": {},
   "outputs": [
    {
     "data": {
      "text/html": [
       "<div>\n",
       "<style scoped>\n",
       "    .dataframe tbody tr th:only-of-type {\n",
       "        vertical-align: middle;\n",
       "    }\n",
       "\n",
       "    .dataframe tbody tr th {\n",
       "        vertical-align: top;\n",
       "    }\n",
       "\n",
       "    .dataframe thead th {\n",
       "        text-align: right;\n",
       "    }\n",
       "</style>\n",
       "<table border=\"1\" class=\"dataframe\">\n",
       "  <thead>\n",
       "    <tr style=\"text-align: right;\">\n",
       "      <th></th>\n",
       "      <th>Make</th>\n",
       "      <th>Model</th>\n",
       "      <th>Engine_Fuel_Type</th>\n",
       "      <th>Transmission_Type</th>\n",
       "      <th>Driven_Wheels</th>\n",
       "      <th>Market_Category</th>\n",
       "      <th>Vehicle_Size</th>\n",
       "      <th>Vehicle_Style</th>\n",
       "    </tr>\n",
       "  </thead>\n",
       "  <tbody>\n",
       "    <tr>\n",
       "      <th>count</th>\n",
       "      <td>11914</td>\n",
       "      <td>11914</td>\n",
       "      <td>11911</td>\n",
       "      <td>11914</td>\n",
       "      <td>11914</td>\n",
       "      <td>8172</td>\n",
       "      <td>11914</td>\n",
       "      <td>11914</td>\n",
       "    </tr>\n",
       "    <tr>\n",
       "      <th>unique</th>\n",
       "      <td>48</td>\n",
       "      <td>915</td>\n",
       "      <td>10</td>\n",
       "      <td>5</td>\n",
       "      <td>4</td>\n",
       "      <td>71</td>\n",
       "      <td>3</td>\n",
       "      <td>16</td>\n",
       "    </tr>\n",
       "    <tr>\n",
       "      <th>top</th>\n",
       "      <td>Chevrolet</td>\n",
       "      <td>Silverado 1500</td>\n",
       "      <td>regular unleaded</td>\n",
       "      <td>AUTOMATIC</td>\n",
       "      <td>front wheel drive</td>\n",
       "      <td>Crossover</td>\n",
       "      <td>Compact</td>\n",
       "      <td>Sedan</td>\n",
       "    </tr>\n",
       "    <tr>\n",
       "      <th>freq</th>\n",
       "      <td>1123</td>\n",
       "      <td>156</td>\n",
       "      <td>7172</td>\n",
       "      <td>8266</td>\n",
       "      <td>4787</td>\n",
       "      <td>1110</td>\n",
       "      <td>4764</td>\n",
       "      <td>3048</td>\n",
       "    </tr>\n",
       "  </tbody>\n",
       "</table>\n",
       "</div>"
      ],
      "text/plain": [
       "             Make           Model  Engine_Fuel_Type Transmission_Type  \\\n",
       "count       11914           11914             11911             11914   \n",
       "unique         48             915                10                 5   \n",
       "top     Chevrolet  Silverado 1500  regular unleaded         AUTOMATIC   \n",
       "freq         1123             156              7172              8266   \n",
       "\n",
       "            Driven_Wheels Market_Category Vehicle_Size Vehicle_Style  \n",
       "count               11914            8172        11914         11914  \n",
       "unique                  4              71            3            16  \n",
       "top     front wheel drive       Crossover      Compact         Sedan  \n",
       "freq                 4787            1110         4764          3048  "
      ]
     },
     "execution_count": 244,
     "metadata": {},
     "output_type": "execute_result"
    }
   ],
   "source": [
    "#Describe the non-numeric columns\n",
    "\n",
    "df_price.describe(include='object')"
   ]
  },
  {
   "cell_type": "markdown",
   "id": "7045abb6-33fa-4f1f-a805-5ca4db4c0af9",
   "metadata": {},
   "source": [
    "There are 48 manufacturers in the data set\n",
    "and 3 vehicle size categories"
   ]
  },
  {
   "cell_type": "code",
   "execution_count": 245,
   "id": "afb119df-0b73-4e90-8ad1-180b7b9d5378",
   "metadata": {},
   "outputs": [
    {
     "data": {
      "text/html": [
       "<div>\n",
       "<style scoped>\n",
       "    .dataframe tbody tr th:only-of-type {\n",
       "        vertical-align: middle;\n",
       "    }\n",
       "\n",
       "    .dataframe tbody tr th {\n",
       "        vertical-align: top;\n",
       "    }\n",
       "\n",
       "    .dataframe thead th {\n",
       "        text-align: right;\n",
       "    }\n",
       "</style>\n",
       "<table border=\"1\" class=\"dataframe\">\n",
       "  <thead>\n",
       "    <tr style=\"text-align: right;\">\n",
       "      <th></th>\n",
       "      <th>Make</th>\n",
       "      <th>Model</th>\n",
       "      <th>Engine_Fuel_Type</th>\n",
       "      <th>Transmission_Type</th>\n",
       "      <th>Driven_Wheels</th>\n",
       "      <th>Market_Category</th>\n",
       "      <th>Vehicle_Size</th>\n",
       "      <th>Vehicle_Style</th>\n",
       "    </tr>\n",
       "  </thead>\n",
       "  <tbody>\n",
       "    <tr>\n",
       "      <th>0</th>\n",
       "      <td>Chevrolet</td>\n",
       "      <td>Silverado 1500</td>\n",
       "      <td>regular unleaded</td>\n",
       "      <td>AUTOMATIC</td>\n",
       "      <td>front wheel drive</td>\n",
       "      <td>Crossover</td>\n",
       "      <td>Compact</td>\n",
       "      <td>Sedan</td>\n",
       "    </tr>\n",
       "  </tbody>\n",
       "</table>\n",
       "</div>"
      ],
      "text/plain": [
       "        Make           Model  Engine_Fuel_Type Transmission_Type  \\\n",
       "0  Chevrolet  Silverado 1500  regular unleaded         AUTOMATIC   \n",
       "\n",
       "       Driven_Wheels Market_Category Vehicle_Size Vehicle_Style  \n",
       "0  front wheel drive       Crossover      Compact         Sedan  "
      ]
     },
     "execution_count": 245,
     "metadata": {},
     "output_type": "execute_result"
    }
   ],
   "source": [
    "#what is the most repeated values in each non-numeric column?\n",
    "\n",
    "df_cat = df_price.select_dtypes(include=object)\n",
    "df_cat.mode()"
   ]
  },
  {
   "cell_type": "code",
   "execution_count": 246,
   "id": "a220b211-d6be-4559-8cb0-f98f216488b7",
   "metadata": {},
   "outputs": [
    {
     "data": {
      "text/plain": [
       "Index(['Make', 'Model', 'Engine_Fuel_Type', 'Transmission_Type',\n",
       "       'Driven_Wheels', 'Market_Category', 'Vehicle_Size', 'Vehicle_Style'],\n",
       "      dtype='object')"
      ]
     },
     "execution_count": 246,
     "metadata": {},
     "output_type": "execute_result"
    }
   ],
   "source": [
    "#what are the names of non-numeric columns?\n",
    "\n",
    "df_cat.columns"
   ]
  },
  {
   "cell_type": "code",
   "execution_count": 247,
   "id": "43408c93-16cb-45d7-b893-61ef1c12fb2d",
   "metadata": {},
   "outputs": [
    {
     "data": {
      "text/plain": [
       "Make\n",
       "Chevrolet        1123\n",
       "Ford              881\n",
       "Volkswagen        809\n",
       "Toyota            746\n",
       "Dodge             626\n",
       "Nissan            558\n",
       "GMC               515\n",
       "Honda             449\n",
       "Mazda             423\n",
       "Cadillac          397\n",
       "Mercedes-Benz     353\n",
       "Suzuki            351\n",
       "BMW               334\n",
       "Infiniti          330\n",
       "Audi              328\n",
       "Hyundai           303\n",
       "Volvo             281\n",
       "Subaru            256\n",
       "Acura             252\n",
       "Kia               231\n",
       "Mitsubishi        213\n",
       "Lexus             202\n",
       "Buick             196\n",
       "Chrysler          187\n",
       "Pontiac           186\n",
       "Lincoln           164\n",
       "Oldsmobile        150\n",
       "Land Rover        143\n",
       "Porsche           136\n",
       "Saab              111\n",
       "Aston Martin       93\n",
       "Plymouth           82\n",
       "Bentley            74\n",
       "Ferrari            69\n",
       "FIAT               62\n",
       "Scion              60\n",
       "Maserati           58\n",
       "Lamborghini        52\n",
       "Rolls-Royce        31\n",
       "Lotus              29\n",
       "Tesla              18\n",
       "HUMMER             17\n",
       "Maybach            16\n",
       "Alfa Romeo          5\n",
       "McLaren             5\n",
       "Spyker              3\n",
       "Genesis             3\n",
       "Bugatti             3\n",
       "Name: count, dtype: int64"
      ]
     },
     "execution_count": 247,
     "metadata": {},
     "output_type": "execute_result"
    }
   ],
   "source": [
    "#How can we find out how many cars from each manufacturer (make) are present in the dataset?\n",
    "\n",
    "df_cat.Make.value_counts()"
   ]
  },
  {
   "cell_type": "markdown",
   "id": "babdbe9e-b19a-4a64-884c-db4fac11b88a",
   "metadata": {},
   "source": [
    "Chevrolet is the most frequently occurring car manufacturer in the dataset and \n",
    "\n",
    "Bugatti,Spyker,Genesis are the least occuring"
   ]
  },
  {
   "cell_type": "code",
   "execution_count": 248,
   "id": "bc99f04a-c19f-4061-8f9d-49092e9fec9c",
   "metadata": {},
   "outputs": [
    {
     "data": {
      "text/plain": [
       "Transmission_Type\n",
       "AUTOMATIC           8266\n",
       "MANUAL              2935\n",
       "AUTOMATED_MANUAL     626\n",
       "DIRECT_DRIVE          68\n",
       "UNKNOWN               19\n",
       "Name: count, dtype: int64"
      ]
     },
     "execution_count": 248,
     "metadata": {},
     "output_type": "execute_result"
    }
   ],
   "source": [
    "#what are the different Transmission Types and how many cars are in each category?\n",
    "\n",
    "df_cat.Transmission_Type.value_counts()"
   ]
  },
  {
   "cell_type": "markdown",
   "id": "c18cb5ac-e499-4cdb-ae7e-ee49014a01f8",
   "metadata": {},
   "source": [
    "Automatic vehicles are more common in the dataset"
   ]
  },
  {
   "cell_type": "code",
   "execution_count": 249,
   "id": "97d7116c-8eb5-4a2d-809d-84435309fae6",
   "metadata": {},
   "outputs": [
    {
     "data": {
      "text/plain": [
       "Vehicle_Size\n",
       "Compact    4764\n",
       "Midsize    4373\n",
       "Large      2777\n",
       "Name: count, dtype: int64"
      ]
     },
     "execution_count": 249,
     "metadata": {},
     "output_type": "execute_result"
    }
   ],
   "source": [
    "#What Vehicle size is the most common one?\n",
    "\n",
    "df_cat.Vehicle_Size.value_counts()"
   ]
  },
  {
   "cell_type": "markdown",
   "id": "8282d22f-7d8f-49cc-adb2-0995c07ff3a8",
   "metadata": {},
   "source": [
    "The three types of vehicle size are mid-size,compact and large. In this dataset there are more vehicles with compact size"
   ]
  },
  {
   "cell_type": "code",
   "execution_count": 250,
   "id": "127ff471-a816-4577-a38d-0ece664bc4e2",
   "metadata": {},
   "outputs": [
    {
     "name": "stdout",
     "output_type": "stream",
     "text": [
      "Year                 2007.0\n",
      "Engine_HP             170.0\n",
      "Engine_Cylinders        4.0\n",
      "Number_of_Doors         2.0\n",
      "Highway_MPG            22.0\n",
      "City_MPG               16.0\n",
      "MSRP                21000.0\n",
      "Name: 0.25, dtype: float64\n"
     ]
    }
   ],
   "source": [
    "# the first quartile\n",
    "quantile_df = df_price.select_dtypes(include='number')\n",
    "quantile_1 = quantile_df.quantile(0.25)\n",
    "print(quantile_1)"
   ]
  },
  {
   "cell_type": "code",
   "execution_count": 251,
   "id": "e3aa990c-d35e-43fd-85dd-3344aedbbf1b",
   "metadata": {},
   "outputs": [
    {
     "name": "stdout",
     "output_type": "stream",
     "text": [
      "Year                 2015.0\n",
      "Engine_HP             227.0\n",
      "Engine_Cylinders        6.0\n",
      "Number_of_Doors         4.0\n",
      "Highway_MPG            26.0\n",
      "City_MPG               18.0\n",
      "MSRP                29995.0\n",
      "Name: 0.5, dtype: float64\n"
     ]
    }
   ],
   "source": [
    "# the second quartile/median\n",
    "quantile_df = df_price.select_dtypes(include='number')\n",
    "quantile_2 = quantile_df.quantile(0.5)\n",
    "print(quantile_2)"
   ]
  },
  {
   "cell_type": "code",
   "execution_count": 252,
   "id": "f3db2d09-fde0-406e-a931-c0dad554a5f9",
   "metadata": {},
   "outputs": [
    {
     "name": "stdout",
     "output_type": "stream",
     "text": [
      "Year                 2016.00\n",
      "Engine_HP             300.00\n",
      "Engine_Cylinders        6.00\n",
      "Number_of_Doors         4.00\n",
      "Highway_MPG            30.00\n",
      "City_MPG               22.00\n",
      "MSRP                42231.25\n",
      "Name: 0.75, dtype: float64\n"
     ]
    }
   ],
   "source": [
    "# the third quartile\n",
    "quantile_df = df_price.select_dtypes(include='number')\n",
    "quantile_3 = quantile_df.quantile(0.75)\n",
    "print(quantile_3)"
   ]
  },
  {
   "cell_type": "code",
   "execution_count": 253,
   "id": "66e131c9-b19f-413b-89d1-28498b4cb89b",
   "metadata": {},
   "outputs": [
    {
     "data": {
      "image/png": "[encoded data removed]",
      "text/plain": [
       "<Figure size 1500x500 with 1 Axes>"
      ]
     },
     "metadata": {},
     "output_type": "display_data"
    }
   ],
   "source": [
    "#Graph for the 3 quantiles[Q1,Q2,Q3]\n",
    "\n",
    "import matplotlib.pyplot as plt #to create any visualization we need matplotlib and for graphs we need need pyplot\n",
    "%matplotlib inline \n",
    "#to display plots directly in the notebook\n",
    "plt.rcParams[\"figure.figsize\"] = [15,5] #set the default size of plots created using\n",
    "q1 = df_price.Engine_HP.quantile(q=0.25)   #first quantile of Engine_HP\n",
    "q2 = df_price.Engine_HP.quantile(q=0.50)   #second quantile of Engine_HP\n",
    "q3 = df_price.Engine_HP.quantile(q=0.75)   #third quantile of Engine_HP \n",
    "\n",
    "df_price.Engine_HP.plot(kind='density') \n",
    "\n",
    "# to plot the quartile lines\n",
    "# plt.axvline(): plots a line perpendicular to the X-axis at specified location on X-axis\n",
    "# x: location on X-axis at which the line is to be plotted\n",
    "# ymax: specify the height of the line\n",
    "# color: color of the line\n",
    "# linestyle: specify the style of the line \n",
    "# label: the name of the line. This name is displayed in the legend\n",
    "plt.axvline(x = q1, ymax=0.92, color='red', linestyle='--', label =\"First Quartile\")   \n",
    "plt.axvline(x = q2, ymax=0.64, color='blue', linestyle='--', label =\"Second Quartile\")   \n",
    "plt.axvline(x = q3, ymax=0.60, color='green', linestyle='--', label =\"Third Quartile\")  \n",
    "\n",
    "# to display the legend using plt.legend()\n",
    "# loc: specify the location of the legend\n",
    "# fontsize: set the font size of the legends\n",
    "#supported values are 'best', 'upper right', 'upper left', \n",
    "#'lower left', 'lower right', 'right', 'center left', 'center right', 'lower center', 'upper center', 'center'\n",
    "\n",
    "plt.legend(loc=\"best\", fontsize= 15)\n",
    "\n",
    "# to display the plot title using plt.title()\n",
    "# fontsize: set the font size of the title\n",
    "plt.title(\"Engine_HP\", fontsize = 20)\n",
    "\n",
    "# to label the X-axis using plt.xlabel()\n",
    "# fontsize: set the font size of the label\n",
    "plt.xlabel(\"Engine_HP\", fontsize = 15)\n",
    "\n",
    "# to label the Y-axis\n",
    "# fontsize: set the font size of the label\n",
    "plt.ylabel(\"Density\", fontsize = 15)\n",
    "\n",
    "# label the X-axis at the points where we draw the perpendicular lines using plt.xticks()\n",
    "# locs: specify the location on X-axis\n",
    "# labels: specify the labels on X-axis\n",
    "# fontsize: set the font size of the ticks\n",
    "locs,labels = [q1,q2,q3],[\"Q1\",\"Q2\",\"Q3\"]          \n",
    "plt.xticks(locs, labels, fontsize = 15 )            \n",
    "\n",
    "#to display the graph\n",
    "plt.show()"
   ]
  },
  {
   "cell_type": "markdown",
   "id": "cabc2fc5-53a5-41de-bd5f-b4cf1a2f1ba1",
   "metadata": {},
   "source": [
    "IQR - Interquartile Range"
   ]
  },
  {
   "cell_type": "code",
   "execution_count": 254,
   "id": "2e1baf0b-3c82-4783-83a9-8a52b8be36df",
   "metadata": {},
   "outputs": [
    {
     "name": "stdout",
     "output_type": "stream",
     "text": [
      "Year                    9.00\n",
      "Engine_HP             130.00\n",
      "Engine_Cylinders        2.00\n",
      "Number_of_Doors         2.00\n",
      "Highway_MPG             8.00\n",
      "City_MPG                6.00\n",
      "MSRP                21231.25\n",
      "dtype: float64\n"
     ]
    }
   ],
   "source": [
    "df_num = df_price.select_dtypes(include = np.number)\n",
    "print(df_num.quantile(0.75)-df_num.quantile(0.25))"
   ]
  },
  {
   "cell_type": "markdown",
   "id": "1f8586f1-a577-4c77-a8e2-b6c7ff8e850b",
   "metadata": {},
   "source": [
    "Finding the Outliers"
   ]
  },
  {
   "cell_type": "code",
   "execution_count": 255,
   "id": "6948399c-8922-40bc-b6c4-a70386149355",
   "metadata": {},
   "outputs": [
    {
     "name": "stdout",
     "output_type": "stream",
     "text": [
      "First Quartile (Q1): 21000.0\n",
      "Third Quartile (Q3): 42231.25\n",
      "IQR: 21231.25\n",
      "Lower Bound: -10846.875\n",
      "Upper Bound: 74078.125\n",
      "Outliers\n",
      "           Make    MSRP\n",
      "294     Ferrari  160829\n",
      "295     Ferrari  140615\n",
      "296     Ferrari  150694\n",
      "297     Ferrari  170829\n",
      "298     Ferrari  165986\n",
      "...         ...     ...\n",
      "11736  Cadillac   85650\n",
      "11737  Cadillac   86215\n",
      "11903       BMW  128000\n",
      "11904       BMW  130000\n",
      "11905       BMW  131500\n",
      "\n",
      "[996 rows x 2 columns]\n"
     ]
    }
   ],
   "source": [
    "# Calculate Q1 and Q3\n",
    "Q1 = df_price['MSRP'].quantile(0.25)\n",
    "Q3 = df_price['MSRP'].quantile(0.75)\n",
    "\n",
    "# Compute IQR\n",
    "IQR = Q3 - Q1\n",
    "\n",
    "# Determine outlier bounds\n",
    "lower_bound = Q1 - 1.5 * IQR\n",
    "upper_bound = Q3 + 1.5 * IQR\n",
    "\n",
    "# Display only the Make and MSRP of the outliers\n",
    "outliers_make_msrp = outliers[['Make', 'MSRP']]\n",
    "\n",
    "print(\"First Quartile (Q1):\", Q1)\n",
    "print(\"Third Quartile (Q3):\", Q3)\n",
    "print(\"IQR:\", IQR)\n",
    "print(\"Lower Bound:\", lower_bound)\n",
    "print(\"Upper Bound:\", upper_bound)\n",
    "print(\"Outliers\")\n",
    "print(outliers_make_msrp)"
   ]
  },
  {
   "cell_type": "code",
   "execution_count": 256,
   "id": "b1184621-c237-41ad-92a8-497399f5ed3a",
   "metadata": {},
   "outputs": [
    {
     "data": {
      "text/plain": [
       "True"
      ]
     },
     "execution_count": 256,
     "metadata": {},
     "output_type": "execute_result"
    }
   ],
   "source": [
    "#are there any null values?\n",
    "\n",
    "df_price.isnull().values.any()"
   ]
  },
  {
   "cell_type": "code",
   "execution_count": 257,
   "id": "b0cc5053-6a4d-4ec5-aa93-f991e36acf39",
   "metadata": {},
   "outputs": [
    {
     "data": {
      "text/plain": [
       "Make                    0\n",
       "Model                   0\n",
       "Year                    0\n",
       "Engine_Fuel_Type        3\n",
       "Engine_HP              69\n",
       "Engine_Cylinders       30\n",
       "Transmission_Type       0\n",
       "Driven_Wheels           0\n",
       "Number_of_Doors         6\n",
       "Market_Category      3742\n",
       "Vehicle_Size            0\n",
       "Vehicle_Style           0\n",
       "Highway_MPG             0\n",
       "City_MPG                0\n",
       "MSRP                    0\n",
       "dtype: int64"
      ]
     },
     "execution_count": 257,
     "metadata": {},
     "output_type": "execute_result"
    }
   ],
   "source": [
    "#how many null values are present in each column?\n",
    "\n",
    "missing_values = df_price.isnull().sum()\n",
    "missing_values"
   ]
  },
  {
   "cell_type": "code",
   "execution_count": 258,
   "id": "5da6d985-c483-47ce-909a-8e0a2bd662fc",
   "metadata": {},
   "outputs": [
    {
     "data": {
      "text/plain": [
       "Make                  0.000000\n",
       "Model                 0.000000\n",
       "Year                  0.000000\n",
       "Engine_Fuel_Type      0.025180\n",
       "Engine_HP             0.579151\n",
       "Engine_Cylinders      0.251805\n",
       "Transmission_Type     0.000000\n",
       "Driven_Wheels         0.000000\n",
       "Number_of_Doors       0.050361\n",
       "Market_Category      31.408427\n",
       "Vehicle_Size          0.000000\n",
       "Vehicle_Style         0.000000\n",
       "Highway_MPG           0.000000\n",
       "City_MPG              0.000000\n",
       "MSRP                  0.000000\n",
       "dtype: float64"
      ]
     },
     "execution_count": 258,
     "metadata": {},
     "output_type": "execute_result"
    }
   ],
   "source": [
    "#what is the percentage of null values in the data set?\n",
    "\n",
    "df_price.isna().sum()/df_price.shape[0] * 100"
   ]
  },
  {
   "cell_type": "code",
   "execution_count": 259,
   "id": "a4fd567c-33e7-4c89-981c-463844e71bd8",
   "metadata": {},
   "outputs": [
    {
     "data": {
      "image/png": "[encoded data removed]",
      "text/plain": [
       "<Figure size 1500x500 with 1 Axes>"
      ]
     },
     "metadata": {},
     "output_type": "display_data"
    }
   ],
   "source": [
    "# let us plot a heatmap of the missing values\n",
    "\n",
    "# import the required libraries\n",
    "# import the library seaborn and matplotlib\n",
    "import seaborn as sns\n",
    "import matplotlib.pyplot as plt\n",
    "%matplotlib inline\n",
    "\n",
    "# set the figure size\n",
    "plt.rcParams[\"figure.figsize\"]=[15,5]\n",
    "\n",
    "# plot a heatmap of the missing values in the data\n",
    "# cbar: specify whether to display the color index or not\n",
    "sns.heatmap(df_price.isnull(), cbar = False)\n",
    "\n",
    "# display the plot\n",
    "plt.show()"
   ]
  },
  {
   "cell_type": "markdown",
   "id": "0d8a3c08-7790-4fe0-a448-9ee29941b89e",
   "metadata": {},
   "source": [
    "We can see that there are missing values in Engine_Fuel_Type, Engine_HP, Number_of_Doors, Market_Category, so let us now consider each variable separately for missing value treatment"
   ]
  },
  {
   "cell_type": "markdown",
   "id": "bdba2330-a4e6-418e-b045-4a278c0a36e5",
   "metadata": {},
   "source": [
    "For the variable - Engine_Fuel_Type"
   ]
  },
  {
   "cell_type": "code",
   "execution_count": 260,
   "id": "5d7120c4-ae36-41fc-b004-7c9c70eeaf8c",
   "metadata": {},
   "outputs": [
    {
     "data": {
      "text/plain": [
       "3"
      ]
     },
     "execution_count": 260,
     "metadata": {},
     "output_type": "execute_result"
    }
   ],
   "source": [
    "# check the number of null values\n",
    "df_price.Engine_Fuel_Type.isnull().sum()"
   ]
  },
  {
   "cell_type": "code",
   "execution_count": 261,
   "id": "7136afe1-283a-4c95-94b9-258bffbd1bc3",
   "metadata": {},
   "outputs": [
    {
     "data": {
      "text/plain": [
       "Engine_Fuel_Type\n",
       "regular unleaded                                7172\n",
       "premium unleaded (required)                     2009\n",
       "premium unleaded (recommended)                  1523\n",
       "flex-fuel (unleaded/E85)                         899\n",
       "diesel                                           154\n",
       "electric                                          66\n",
       "flex-fuel (premium unleaded required/E85)         54\n",
       "flex-fuel (premium unleaded recommended/E85)      26\n",
       "flex-fuel (unleaded/natural gas)                   6\n",
       "natural gas                                        2\n",
       "Name: count, dtype: int64"
      ]
     },
     "execution_count": 261,
     "metadata": {},
     "output_type": "execute_result"
    }
   ],
   "source": [
    "df_price.Engine_Fuel_Type.value_counts()"
   ]
  },
  {
   "cell_type": "code",
   "execution_count": 262,
   "id": "0958010c-ef8a-4bed-b9b2-25f443cccd6f",
   "metadata": {},
   "outputs": [
    {
     "data": {
      "text/plain": [
       "0    regular unleaded\n",
       "Name: Engine_Fuel_Type, dtype: object"
      ]
     },
     "execution_count": 262,
     "metadata": {},
     "output_type": "execute_result"
    }
   ],
   "source": [
    "df_price.Engine_Fuel_Type.mode()"
   ]
  },
  {
   "cell_type": "code",
   "execution_count": 263,
   "id": "5e4dcebd-cbdc-442c-afcd-4d1b6a426446",
   "metadata": {},
   "outputs": [],
   "source": [
    "df_price['Engine_Fuel_Type'] = df_price['Engine_Fuel_Type'].fillna(\"regular unleaded\")"
   ]
  },
  {
   "cell_type": "code",
   "execution_count": 264,
   "id": "b64fa13b-89fe-4c11-b834-31abff369a27",
   "metadata": {},
   "outputs": [
    {
     "data": {
      "text/plain": [
       "0"
      ]
     },
     "execution_count": 264,
     "metadata": {},
     "output_type": "execute_result"
    }
   ],
   "source": [
    "df_price.Engine_Fuel_Type.isnull().sum()"
   ]
  },
  {
   "cell_type": "code",
   "execution_count": 265,
   "id": "ac1d20bf-d10a-4ea0-a71c-5a28c21ca4d3",
   "metadata": {},
   "outputs": [
    {
     "data": {
      "text/plain": [
       "Engine_Fuel_Type\n",
       "regular unleaded                                7175\n",
       "premium unleaded (required)                     2009\n",
       "premium unleaded (recommended)                  1523\n",
       "flex-fuel (unleaded/E85)                         899\n",
       "diesel                                           154\n",
       "electric                                          66\n",
       "flex-fuel (premium unleaded required/E85)         54\n",
       "flex-fuel (premium unleaded recommended/E85)      26\n",
       "flex-fuel (unleaded/natural gas)                   6\n",
       "natural gas                                        2\n",
       "Name: count, dtype: int64"
      ]
     },
     "execution_count": 265,
     "metadata": {},
     "output_type": "execute_result"
    }
   ],
   "source": [
    "df_price.Engine_Fuel_Type.value_counts()"
   ]
  },
  {
   "cell_type": "markdown",
   "id": "b74ecf7a-5b98-4e4f-81ba-163e865e3b78",
   "metadata": {},
   "source": [
    "For the variable - Engine_HP"
   ]
  },
  {
   "cell_type": "code",
   "execution_count": 266,
   "id": "7bac227a-eaab-46cb-a463-fce1c88d24a8",
   "metadata": {},
   "outputs": [
    {
     "data": {
      "text/plain": [
       "69"
      ]
     },
     "execution_count": 266,
     "metadata": {},
     "output_type": "execute_result"
    }
   ],
   "source": [
    "# check the number of null values\n",
    "df_price.Engine_HP.isnull().sum()"
   ]
  },
  {
   "cell_type": "code",
   "execution_count": 267,
   "id": "b5a41113-14f0-4980-8e60-b34847b0fa16",
   "metadata": {},
   "outputs": [
    {
     "data": {
      "text/plain": [
       "Engine_HP\n",
       "200.0    456\n",
       "170.0    351\n",
       "210.0    320\n",
       "240.0    268\n",
       "285.0    246\n",
       "        ... \n",
       "660.0      1\n",
       "661.0      1\n",
       "573.0      1\n",
       "592.0      1\n",
       "154.0      1\n",
       "Name: count, Length: 356, dtype: int64"
      ]
     },
     "execution_count": 267,
     "metadata": {},
     "output_type": "execute_result"
    }
   ],
   "source": [
    "df_price.Engine_HP.value_counts()"
   ]
  },
  {
   "cell_type": "code",
   "execution_count": 268,
   "id": "a5e1f689-535a-459d-abe8-0d0769188068",
   "metadata": {},
   "outputs": [
    {
     "data": {
      "text/plain": [
       "227.0"
      ]
     },
     "execution_count": 268,
     "metadata": {},
     "output_type": "execute_result"
    }
   ],
   "source": [
    "df_price.Engine_HP.median()"
   ]
  },
  {
   "cell_type": "code",
   "execution_count": 269,
   "id": "d8bd0998-ae97-480f-b2a4-91aaf300d7b2",
   "metadata": {},
   "outputs": [],
   "source": [
    "median_engine_hp = df_price['Engine_HP'].median()\n",
    "df_price['Engine_HP'] = df_price['Engine_HP'].fillna(median_engine_hp)"
   ]
  },
  {
   "cell_type": "code",
   "execution_count": 270,
   "id": "db261cc9-880f-4bae-8ae3-937a47bdfb80",
   "metadata": {},
   "outputs": [
    {
     "data": {
      "text/plain": [
       "0"
      ]
     },
     "execution_count": 270,
     "metadata": {},
     "output_type": "execute_result"
    }
   ],
   "source": [
    "df_price.Engine_HP.isnull().sum()"
   ]
  },
  {
   "cell_type": "markdown",
   "id": "3571d12d-d599-40d5-8831-347b8ad60ff8",
   "metadata": {},
   "source": [
    "For the variable - Market_Catergory"
   ]
  },
  {
   "cell_type": "code",
   "execution_count": 271,
   "id": "977b35ed-bd27-415a-80a5-47020066ce07",
   "metadata": {},
   "outputs": [
    {
     "data": {
      "text/plain": [
       "3742"
      ]
     },
     "execution_count": 271,
     "metadata": {},
     "output_type": "execute_result"
    }
   ],
   "source": [
    "df_price.Market_Category.isnull().sum()"
   ]
  },
  {
   "cell_type": "code",
   "execution_count": 272,
   "id": "cfedb5ac-13f3-400e-9beb-fcfe08a059f4",
   "metadata": {},
   "outputs": [
    {
     "data": {
      "text/plain": [
       "Market_Category\n",
       "Crossover                                          1110\n",
       "Flex Fuel                                           872\n",
       "Luxury                                              855\n",
       "Luxury,Performance                                  673\n",
       "Hatchback                                           641\n",
       "                                                   ... \n",
       "Crossover,Exotic,Luxury,Performance                   1\n",
       "Exotic,Luxury,High-Performance,Hybrid                 1\n",
       "Crossover,Exotic,Luxury,High-Performance              1\n",
       "Flex Fuel,Factory Tuner,Luxury,High-Performance       1\n",
       "Performance,Hybrid                                    1\n",
       "Name: count, Length: 71, dtype: int64"
      ]
     },
     "execution_count": 272,
     "metadata": {},
     "output_type": "execute_result"
    }
   ],
   "source": [
    "df_price.Market_Category.value_counts()"
   ]
  },
  {
   "cell_type": "code",
   "execution_count": 273,
   "id": "4e02f735-5d5c-4a9d-b663-df93c8feeb49",
   "metadata": {},
   "outputs": [
    {
     "data": {
      "text/plain": [
       "0    Crossover\n",
       "Name: Market_Category, dtype: object"
      ]
     },
     "execution_count": 273,
     "metadata": {},
     "output_type": "execute_result"
    }
   ],
   "source": [
    "df_price.Market_Category.mode()"
   ]
  },
  {
   "cell_type": "code",
   "execution_count": 274,
   "id": "2a6a8ce7-f692-4e20-bfff-368b2d781bed",
   "metadata": {},
   "outputs": [],
   "source": [
    "df_price['Market_Category'] = df_price['Market_Category'].fillna(\"Crossover\")"
   ]
  },
  {
   "cell_type": "code",
   "execution_count": 275,
   "id": "8cd6b11a-9848-4730-b85c-4357a01d6a5f",
   "metadata": {},
   "outputs": [
    {
     "data": {
      "text/plain": [
       "0"
      ]
     },
     "execution_count": 275,
     "metadata": {},
     "output_type": "execute_result"
    }
   ],
   "source": [
    "df_price.Market_Category.isnull().sum()"
   ]
  },
  {
   "cell_type": "code",
   "execution_count": 276,
   "id": "d08066b3-9928-4217-81bd-cd918070f522",
   "metadata": {},
   "outputs": [
    {
     "data": {
      "text/plain": [
       "Market_Category\n",
       "Crossover                                          4852\n",
       "Flex Fuel                                           872\n",
       "Luxury                                              855\n",
       "Luxury,Performance                                  673\n",
       "Hatchback                                           641\n",
       "                                                   ... \n",
       "Crossover,Exotic,Luxury,Performance                   1\n",
       "Exotic,Luxury,High-Performance,Hybrid                 1\n",
       "Crossover,Exotic,Luxury,High-Performance              1\n",
       "Flex Fuel,Factory Tuner,Luxury,High-Performance       1\n",
       "Performance,Hybrid                                    1\n",
       "Name: count, Length: 71, dtype: int64"
      ]
     },
     "execution_count": 276,
     "metadata": {},
     "output_type": "execute_result"
    }
   ],
   "source": [
    "df_price.Market_Category.value_counts()"
   ]
  },
  {
   "cell_type": "markdown",
   "id": "7e694672-57f8-47ba-bc94-f6f5a18fa393",
   "metadata": {},
   "source": [
    "For the variable - Engine_Cylinders"
   ]
  },
  {
   "cell_type": "code",
   "execution_count": 277,
   "id": "6198d517-ca4b-4c41-b3b6-bba019411bbc",
   "metadata": {},
   "outputs": [
    {
     "data": {
      "text/plain": [
       "30"
      ]
     },
     "execution_count": 277,
     "metadata": {},
     "output_type": "execute_result"
    }
   ],
   "source": [
    "df_price.Engine_Cylinders.isnull().sum()"
   ]
  },
  {
   "cell_type": "code",
   "execution_count": 278,
   "id": "a7e26ea9-00bb-441d-a75b-1d084935014e",
   "metadata": {},
   "outputs": [
    {
     "data": {
      "text/plain": [
       "Engine_Cylinders\n",
       "4.0     4752\n",
       "6.0     4489\n",
       "8.0     2031\n",
       "12.0     230\n",
       "5.0      225\n",
       "10.0      68\n",
       "0.0       56\n",
       "3.0       30\n",
       "16.0       3\n",
       "Name: count, dtype: int64"
      ]
     },
     "execution_count": 278,
     "metadata": {},
     "output_type": "execute_result"
    }
   ],
   "source": [
    "df_price.Engine_Cylinders.value_counts()"
   ]
  },
  {
   "cell_type": "code",
   "execution_count": 279,
   "id": "64866b7b-d787-4370-8b57-687552b42b9f",
   "metadata": {},
   "outputs": [
    {
     "data": {
      "text/plain": [
       "6.0"
      ]
     },
     "execution_count": 279,
     "metadata": {},
     "output_type": "execute_result"
    }
   ],
   "source": [
    "df_price.Engine_Cylinders.median()"
   ]
  },
  {
   "cell_type": "code",
   "execution_count": 280,
   "id": "92c71b7d-98cb-41d6-8f98-0adf2e5e1304",
   "metadata": {},
   "outputs": [],
   "source": [
    "median_Engine_Cylinders = df_price['Engine_Cylinders'].median()\n",
    "df_price['Engine_Cylinders'] = df_price['Engine_Cylinders'].fillna(median_Engine_Cylinders)"
   ]
  },
  {
   "cell_type": "code",
   "execution_count": 281,
   "id": "2e3e7383-f870-4594-8177-aefdff462bc0",
   "metadata": {},
   "outputs": [
    {
     "data": {
      "text/plain": [
       "0"
      ]
     },
     "execution_count": 281,
     "metadata": {},
     "output_type": "execute_result"
    }
   ],
   "source": [
    "df_price.Engine_Cylinders.isnull().sum()"
   ]
  },
  {
   "cell_type": "markdown",
   "id": "fa1fbf06-eb81-4ec6-a819-5c1729a6f277",
   "metadata": {},
   "source": [
    "For the variable - Number of Doors"
   ]
  },
  {
   "cell_type": "code",
   "execution_count": 282,
   "id": "f3dac368-00b9-4b73-9ff9-fc22ca833457",
   "metadata": {},
   "outputs": [
    {
     "data": {
      "text/plain": [
       "6"
      ]
     },
     "execution_count": 282,
     "metadata": {},
     "output_type": "execute_result"
    }
   ],
   "source": [
    "df_price.Number_of_Doors.isnull().sum()"
   ]
  },
  {
   "cell_type": "code",
   "execution_count": 283,
   "id": "9eaf349a-21f5-4b9c-a007-a0b9ede1e1e6",
   "metadata": {},
   "outputs": [
    {
     "data": {
      "text/plain": [
       "Number_of_Doors\n",
       "4.0    8353\n",
       "2.0    3160\n",
       "3.0     395\n",
       "Name: count, dtype: int64"
      ]
     },
     "execution_count": 283,
     "metadata": {},
     "output_type": "execute_result"
    }
   ],
   "source": [
    "df_price.Number_of_Doors.value_counts()"
   ]
  },
  {
   "cell_type": "code",
   "execution_count": 284,
   "id": "b4977070-3446-4f3a-815a-5628b4994d47",
   "metadata": {},
   "outputs": [
    {
     "data": {
      "text/plain": [
       "4.0"
      ]
     },
     "execution_count": 284,
     "metadata": {},
     "output_type": "execute_result"
    }
   ],
   "source": [
    "df_price.Number_of_Doors.median()"
   ]
  },
  {
   "cell_type": "code",
   "execution_count": 285,
   "id": "231ac7f6-f325-483d-a14e-61e88baba55c",
   "metadata": {},
   "outputs": [],
   "source": [
    "median_Number_of_Doors = df_price['Number_of_Doors'].median()\n",
    "df_price['Number_of_Doors'] = df_price['Number_of_Doors'].fillna(median_Engine_Cylinders)"
   ]
  },
  {
   "cell_type": "markdown",
   "id": "49ac288c-4bea-4c38-8cb6-8167e569cf26",
   "metadata": {},
   "source": [
    "Check for Missing Values again"
   ]
  },
  {
   "cell_type": "code",
   "execution_count": 286,
   "id": "7893312f-18f7-4a21-a0f6-c47865b85d35",
   "metadata": {},
   "outputs": [
    {
     "data": {
      "text/plain": [
       "Make                 0\n",
       "Model                0\n",
       "Year                 0\n",
       "Engine_Fuel_Type     0\n",
       "Engine_HP            0\n",
       "Engine_Cylinders     0\n",
       "Transmission_Type    0\n",
       "Driven_Wheels        0\n",
       "Number_of_Doors      0\n",
       "Market_Category      0\n",
       "Vehicle_Size         0\n",
       "Vehicle_Style        0\n",
       "Highway_MPG          0\n",
       "City_MPG             0\n",
       "MSRP                 0\n",
       "dtype: int64"
      ]
     },
     "execution_count": 286,
     "metadata": {},
     "output_type": "execute_result"
    }
   ],
   "source": [
    "missing_values = df_price.isnull().sum()\n",
    "missing_values"
   ]
  },
  {
   "cell_type": "code",
   "execution_count": 287,
   "id": "22d9bd4d-b03b-44ca-a171-a04f4c2ed967",
   "metadata": {},
   "outputs": [
    {
     "data": {
      "image/png": "[encoded data removed]",
      "text/plain": [
       "<Figure size 1500x500 with 1 Axes>"
      ]
     },
     "metadata": {},
     "output_type": "display_data"
    }
   ],
   "source": [
    "# let us plot a heatmap of the missing values\n",
    "\n",
    "# import the required libraries\n",
    "# import the library seaborn and matplotlib\n",
    "import seaborn as sns\n",
    "import matplotlib.pyplot as plt\n",
    "%matplotlib inline\n",
    "\n",
    "# set the figure size\n",
    "plt.rcParams[\"figure.figsize\"]=[15,5]\n",
    "\n",
    "# plot a heatmap of the missing values in the data\n",
    "# cbar: specify whether to display the color index or not\n",
    "sns.heatmap(df_price.isnull(), cbar = False)\n",
    "\n",
    "# display the plot\n",
    "plt.show()"
   ]
  },
  {
   "cell_type": "markdown",
   "id": "d970a8db-53b0-446a-8dfa-6ed0bb749c5f",
   "metadata": {},
   "source": [
    "There are no more missing values"
   ]
  }
 ],
 "metadata": {
  "kernelspec": {
   "display_name": "Python 3 (ipykernel)",
   "language": "python",
   "name": "python3"
  },
  "language_info": {
   "codemirror_mode": {
    "name": "ipython",
    "version": 3
   },
   "file_extension": ".py",
   "mimetype": "text/x-python",
   "name": "python",
   "nbconvert_exporter": "python",
   "pygments_lexer": "ipython3",
   "version": "3.12.4"
  }
 },
 "nbformat": 4,
 "nbformat_minor": 5
}
