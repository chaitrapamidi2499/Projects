{
 "cells": [
  {
   "cell_type": "markdown",
   "id": "42817977-ee9b-4279-a223-91ba73889f9a",
   "metadata": {},
   "source": [
    "## Two Way Anova"
   ]
  },
  {
   "cell_type": "raw",
   "id": "151c8dd4-c05e-48b9-bcc6-139215ce0b5a",
   "metadata": {},
   "source": [
    "What is Two-Way ANOVA? \n",
    "\n",
    "Two-way ANOVA is a statistical test used to evaluate the effect of \n",
    "two independent variables (factors) on a dependent variable. \n",
    "It also examines whether there is an interaction between the two factors.\n",
    "\n",
    "When to Use Two-Way ANOVA?\r\n",
    "Two-way ANOVA is appropriate when:\r\n",
    "\r\n",
    "-> You want to analyze the effect of two factors simultaneously.\r\n",
    "-> Each factor has two or more levels \r\n",
    "-> You want to test for main effects of each factor and the interaction effect between the factors."
   ]
  },
  {
   "cell_type": "raw",
   "id": "82aec547-1903-499b-8732-13d5b46f392a",
   "metadata": {},
   "source": [
    "Assumptions of Two-Way ANOVA:\n",
    "-> Independence of Observations: The data points should be independent of each other.\n",
    "-> Normality: The dependent variable should be approximately normally distributed for each combination of the factors.\n",
    "-> Homogeneity of Variance: The variance within each group should be approximately equal."
   ]
  },
  {
   "cell_type": "raw",
   "id": "61dd2ae9-05d2-40ba-9a6b-c60aa97a6e0d",
   "metadata": {},
   "source": [
    "DATA SET :\n",
    "water: how frequently each plant was watered: daily or weekly\n",
    "sun: how much sunlight exposure each plant received: low, medium, or high\n",
    "height: the height of each plant"
   ]
  },
  {
   "cell_type": "markdown",
   "id": "e24267de-b9d0-4ddf-99ae-e83c508da961",
   "metadata": {},
   "source": [
    "## Hypothesis"
   ]
  },
  {
   "cell_type": "markdown",
   "id": "602bf60c-8274-45bd-9295-80352ae08c40",
   "metadata": {},
   "source": [
    "1. Main Effect of Watering Frequency (Independent Variable 1)\n",
    "\n",
    "H₀ (Null Hypothesis): The mean of plant height is not significantly different for all the watering frequencies.\n",
    "H₁ (Alternative Hypothesis): The mean of plant height is significantly different for all the watering frequencies.\n",
    "\n",
    "2. Main Effect of Sunlight Exposure (Independent Variable 2)\n",
    "\n",
    "H₀(Null Hypothesis): The mean of plant height is not significantly different for all sunlight exposure.\n",
    "H₁(Alternative Hypothesis): The mean of plant height is significantly different for all sunlight exposure.\n",
    "\n",
    "3. Interaction Effect Between Watering Frequency and Sunlight Exposure\n",
    "   \n",
    "H₀ (Null Hypothesis):The mean plant of height is not significantly affected by the interaction between watering frequency and sunlight exposure.\n",
    "H₁ (Alternative Hypothesis): The mean of plant height is significantly affected by the interaction between watering frequency and sunlight exposure."
   ]
  },
  {
   "cell_type": "markdown",
   "id": "842e7905-137a-45cd-b9cf-1c92ed0d2566",
   "metadata": {},
   "source": [
    "importing the libraries"
   ]
  },
  {
   "cell_type": "code",
   "execution_count": 2,
   "id": "d3a3235f-66ee-408d-8bff-51d1e3a91188",
   "metadata": {},
   "outputs": [],
   "source": [
    "import warnings\n",
    "warnings.filterwarnings('ignore')\n",
    "from scipy import stats\n",
    "import statsmodels.api as sm\n",
    "from statsmodels.formula.api import ols\n",
    "import pandas as pd\n",
    "import matplotlib.pyplot as plt\n",
    "import seaborn as sns"
   ]
  },
  {
   "cell_type": "markdown",
   "id": "4da04357-aa52-464b-bbc2-edbb586ed9bc",
   "metadata": {},
   "source": [
    "loading the dataset"
   ]
  },
  {
   "cell_type": "code",
   "execution_count": 4,
   "id": "c699bdfa-45ac-4214-9467-4be43fa1d57e",
   "metadata": {},
   "outputs": [],
   "source": [
    "growth = pd.read_csv('TwoWayAnova.csv')"
   ]
  },
  {
   "cell_type": "code",
   "execution_count": 5,
   "id": "24939898-3a61-4c09-8a86-35116f545464",
   "metadata": {},
   "outputs": [
    {
     "data": {
      "text/html": [
       "<div>\n",
       "<style scoped>\n",
       "    .dataframe tbody tr th:only-of-type {\n",
       "        vertical-align: middle;\n",
       "    }\n",
       "\n",
       "    .dataframe tbody tr th {\n",
       "        vertical-align: top;\n",
       "    }\n",
       "\n",
       "    .dataframe thead th {\n",
       "        text-align: right;\n",
       "    }\n",
       "</style>\n",
       "<table border=\"1\" class=\"dataframe\">\n",
       "  <thead>\n",
       "    <tr style=\"text-align: right;\">\n",
       "      <th></th>\n",
       "      <th>water</th>\n",
       "      <th>sun</th>\n",
       "      <th>height</th>\n",
       "    </tr>\n",
       "  </thead>\n",
       "  <tbody>\n",
       "    <tr>\n",
       "      <th>0</th>\n",
       "      <td>Daily</td>\n",
       "      <td>Low</td>\n",
       "      <td>5.0</td>\n",
       "    </tr>\n",
       "    <tr>\n",
       "      <th>1</th>\n",
       "      <td>Daily</td>\n",
       "      <td>Low</td>\n",
       "      <td>5.2</td>\n",
       "    </tr>\n",
       "    <tr>\n",
       "      <th>2</th>\n",
       "      <td>Daily</td>\n",
       "      <td>Low</td>\n",
       "      <td>5.6</td>\n",
       "    </tr>\n",
       "    <tr>\n",
       "      <th>3</th>\n",
       "      <td>Daily</td>\n",
       "      <td>Low</td>\n",
       "      <td>4.3</td>\n",
       "    </tr>\n",
       "    <tr>\n",
       "      <th>4</th>\n",
       "      <td>Daily</td>\n",
       "      <td>Low</td>\n",
       "      <td>4.8</td>\n",
       "    </tr>\n",
       "    <tr>\n",
       "      <th>5</th>\n",
       "      <td>Daily</td>\n",
       "      <td>Medium</td>\n",
       "      <td>6.4</td>\n",
       "    </tr>\n",
       "    <tr>\n",
       "      <th>6</th>\n",
       "      <td>Daily</td>\n",
       "      <td>Medium</td>\n",
       "      <td>6.2</td>\n",
       "    </tr>\n",
       "    <tr>\n",
       "      <th>7</th>\n",
       "      <td>Daily</td>\n",
       "      <td>Medium</td>\n",
       "      <td>4.7</td>\n",
       "    </tr>\n",
       "    <tr>\n",
       "      <th>8</th>\n",
       "      <td>Daily</td>\n",
       "      <td>Medium</td>\n",
       "      <td>5.5</td>\n",
       "    </tr>\n",
       "    <tr>\n",
       "      <th>9</th>\n",
       "      <td>Daily</td>\n",
       "      <td>Medium</td>\n",
       "      <td>5.8</td>\n",
       "    </tr>\n",
       "  </tbody>\n",
       "</table>\n",
       "</div>"
      ],
      "text/plain": [
       "   water     sun  height\n",
       "0  Daily     Low     5.0\n",
       "1  Daily     Low     5.2\n",
       "2  Daily     Low     5.6\n",
       "3  Daily     Low     4.3\n",
       "4  Daily     Low     4.8\n",
       "5  Daily  Medium     6.4\n",
       "6  Daily  Medium     6.2\n",
       "7  Daily  Medium     4.7\n",
       "8  Daily  Medium     5.5\n",
       "9  Daily  Medium     5.8"
      ]
     },
     "execution_count": 5,
     "metadata": {},
     "output_type": "execute_result"
    }
   ],
   "source": [
    "growth.head(10)"
   ]
  },
  {
   "cell_type": "code",
   "execution_count": 6,
   "id": "da514ff3-fba4-4540-9795-b9ce8edd41d4",
   "metadata": {},
   "outputs": [
    {
     "data": {
      "text/plain": [
       "sun     water \n",
       "High    Daily     5.78\n",
       "        Weekly    5.32\n",
       "Low     Daily     4.98\n",
       "        Weekly    5.22\n",
       "Medium  Daily     5.72\n",
       "        Weekly    6.06\n",
       "Name: height, dtype: float64"
      ]
     },
     "execution_count": 6,
     "metadata": {},
     "output_type": "execute_result"
    }
   ],
   "source": [
    "growth.groupby(['sun','water'])['height'].mean()"
   ]
  },
  {
   "cell_type": "markdown",
   "id": "dc2bf046-b4d3-4cb8-ad58-f1ab64eaf9f9",
   "metadata": {},
   "source": [
    "groups the data in the growth DataFrame by the combination \n",
    "of the sun and water columns, \n",
    "and then calculates the mean of the height for each combination."
   ]
  },
  {
   "cell_type": "markdown",
   "id": "ce95605d-7ce4-4bc1-9382-2f019cc6ea8e",
   "metadata": {},
   "source": [
    "Using Ordinary Least Squares(OLS) regression from the statsmodels library to fit a simple linear regression model."
   ]
  },
  {
   "cell_type": "code",
   "execution_count": 7,
   "id": "73a6a40d-041f-4c90-aec0-f3d775f023c0",
   "metadata": {},
   "outputs": [],
   "source": [
    "growth_model_1 = ols('height ~ water',data =growth).fit()"
   ]
  },
  {
   "cell_type": "code",
   "execution_count": 8,
   "id": "46417124-7ef6-4aaa-886d-8a7b25d2a941",
   "metadata": {},
   "outputs": [],
   "source": [
    "ano2test_1=sm.stats.anova_lm(growth_model_1,type = 2)"
   ]
  },
  {
   "cell_type": "code",
   "execution_count": 9,
   "id": "472d5108-596e-4262-8743-47651a299c75",
   "metadata": {},
   "outputs": [
    {
     "data": {
      "text/html": [
       "<div>\n",
       "<style scoped>\n",
       "    .dataframe tbody tr th:only-of-type {\n",
       "        vertical-align: middle;\n",
       "    }\n",
       "\n",
       "    .dataframe tbody tr th {\n",
       "        vertical-align: top;\n",
       "    }\n",
       "\n",
       "    .dataframe thead th {\n",
       "        text-align: right;\n",
       "    }\n",
       "</style>\n",
       "<table border=\"1\" class=\"dataframe\">\n",
       "  <thead>\n",
       "    <tr style=\"text-align: right;\">\n",
       "      <th></th>\n",
       "      <th>df</th>\n",
       "      <th>sum_sq</th>\n",
       "      <th>mean_sq</th>\n",
       "      <th>F</th>\n",
       "      <th>PR(&gt;F)</th>\n",
       "    </tr>\n",
       "  </thead>\n",
       "  <tbody>\n",
       "    <tr>\n",
       "      <th>water</th>\n",
       "      <td>2.0</td>\n",
       "      <td>0.628333</td>\n",
       "      <td>0.314167</td>\n",
       "      <td>0.823038</td>\n",
       "      <td>0.449813</td>\n",
       "    </tr>\n",
       "    <tr>\n",
       "      <th>Residual</th>\n",
       "      <td>27.0</td>\n",
       "      <td>10.306333</td>\n",
       "      <td>0.381716</td>\n",
       "      <td>NaN</td>\n",
       "      <td>NaN</td>\n",
       "    </tr>\n",
       "  </tbody>\n",
       "</table>\n",
       "</div>"
      ],
      "text/plain": [
       "            df     sum_sq   mean_sq         F    PR(>F)\n",
       "water      2.0   0.628333  0.314167  0.823038  0.449813\n",
       "Residual  27.0  10.306333  0.381716       NaN       NaN"
      ]
     },
     "execution_count": 9,
     "metadata": {},
     "output_type": "execute_result"
    }
   ],
   "source": [
    "ano2test_1"
   ]
  },
  {
   "cell_type": "markdown",
   "id": "fcfa1451-cfa7-4625-9d0e-3a34c58e504f",
   "metadata": {},
   "source": [
    "water: p-value = 0.449813 > 0.05 , retain H0\n",
    "\n",
    "H₀ (Null Hypothesis): The mean of height of the plan is not significantly different for the water levels"
   ]
  },
  {
   "cell_type": "code",
   "execution_count": 10,
   "id": "7d13a9ef-b1fa-44b5-9bbe-2dcc3d52ff1c",
   "metadata": {},
   "outputs": [],
   "source": [
    "growth_model_2 = ols('height ~ sun',data =growth).fit()"
   ]
  },
  {
   "cell_type": "code",
   "execution_count": 11,
   "id": "366b8844-39e5-4fcf-b9f0-0eaf955378bd",
   "metadata": {},
   "outputs": [],
   "source": [
    "ano2test_2=sm.stats.anova_lm(growth_model_2,type = 2)"
   ]
  },
  {
   "cell_type": "code",
   "execution_count": 12,
   "id": "6f1b7996-137a-4798-b215-ff74c3c50927",
   "metadata": {},
   "outputs": [
    {
     "data": {
      "text/html": [
       "<div>\n",
       "<style scoped>\n",
       "    .dataframe tbody tr th:only-of-type {\n",
       "        vertical-align: middle;\n",
       "    }\n",
       "\n",
       "    .dataframe tbody tr th {\n",
       "        vertical-align: top;\n",
       "    }\n",
       "\n",
       "    .dataframe thead th {\n",
       "        text-align: right;\n",
       "    }\n",
       "</style>\n",
       "<table border=\"1\" class=\"dataframe\">\n",
       "  <thead>\n",
       "    <tr style=\"text-align: right;\">\n",
       "      <th></th>\n",
       "      <th>df</th>\n",
       "      <th>sum_sq</th>\n",
       "      <th>mean_sq</th>\n",
       "      <th>F</th>\n",
       "      <th>PR(&gt;F)</th>\n",
       "    </tr>\n",
       "  </thead>\n",
       "  <tbody>\n",
       "    <tr>\n",
       "      <th>sun</th>\n",
       "      <td>2.0</td>\n",
       "      <td>3.140667</td>\n",
       "      <td>1.570333</td>\n",
       "      <td>5.439954</td>\n",
       "      <td>0.010349</td>\n",
       "    </tr>\n",
       "    <tr>\n",
       "      <th>Residual</th>\n",
       "      <td>27.0</td>\n",
       "      <td>7.794000</td>\n",
       "      <td>0.288667</td>\n",
       "      <td>NaN</td>\n",
       "      <td>NaN</td>\n",
       "    </tr>\n",
       "  </tbody>\n",
       "</table>\n",
       "</div>"
      ],
      "text/plain": [
       "            df    sum_sq   mean_sq         F    PR(>F)\n",
       "sun        2.0  3.140667  1.570333  5.439954  0.010349\n",
       "Residual  27.0  7.794000  0.288667       NaN       NaN"
      ]
     },
     "execution_count": 12,
     "metadata": {},
     "output_type": "execute_result"
    }
   ],
   "source": [
    "ano2test_2"
   ]
  },
  {
   "cell_type": "markdown",
   "id": "2f6cd1ba-5730-4514-b781-d9eef5abb610",
   "metadata": {},
   "source": [
    "sun: p-value = 0.010349 < 0.05 , reject H0\n",
    "\n",
    "H₁ (Alternative Hypothesis): the mean height of the plant is significantly different for all the levels of sun exposure"
   ]
  },
  {
   "cell_type": "code",
   "execution_count": 13,
   "id": "fee9cbe9-81e8-4b88-a3f4-b2151e5b9026",
   "metadata": {},
   "outputs": [],
   "source": [
    "growth_model_2 = ols('height ~ water+sun',data =growth).fit()"
   ]
  },
  {
   "cell_type": "code",
   "execution_count": 14,
   "id": "8ceaa7e4-c413-4c62-aeb3-f47d61c711ea",
   "metadata": {},
   "outputs": [],
   "source": [
    "ano2test2=sm.stats.anova_lm(growth_model_2,type = 2)"
   ]
  },
  {
   "cell_type": "code",
   "execution_count": 15,
   "id": "1fe42822-f7ab-442d-a5d2-730abb045a1d",
   "metadata": {},
   "outputs": [
    {
     "data": {
      "text/html": [
       "<div>\n",
       "<style scoped>\n",
       "    .dataframe tbody tr th:only-of-type {\n",
       "        vertical-align: middle;\n",
       "    }\n",
       "\n",
       "    .dataframe tbody tr th {\n",
       "        vertical-align: top;\n",
       "    }\n",
       "\n",
       "    .dataframe thead th {\n",
       "        text-align: right;\n",
       "    }\n",
       "</style>\n",
       "<table border=\"1\" class=\"dataframe\">\n",
       "  <thead>\n",
       "    <tr style=\"text-align: right;\">\n",
       "      <th></th>\n",
       "      <th>df</th>\n",
       "      <th>sum_sq</th>\n",
       "      <th>mean_sq</th>\n",
       "      <th>F</th>\n",
       "      <th>PR(&gt;F)</th>\n",
       "    </tr>\n",
       "  </thead>\n",
       "  <tbody>\n",
       "    <tr>\n",
       "      <th>water</th>\n",
       "      <td>2.0</td>\n",
       "      <td>0.628333</td>\n",
       "      <td>0.314167</td>\n",
       "      <td>1.147515</td>\n",
       "      <td>0.333584</td>\n",
       "    </tr>\n",
       "    <tr>\n",
       "      <th>sun</th>\n",
       "      <td>2.0</td>\n",
       "      <td>3.461833</td>\n",
       "      <td>1.730917</td>\n",
       "      <td>6.322290</td>\n",
       "      <td>0.005997</td>\n",
       "    </tr>\n",
       "    <tr>\n",
       "      <th>Residual</th>\n",
       "      <td>25.0</td>\n",
       "      <td>6.844500</td>\n",
       "      <td>0.273780</td>\n",
       "      <td>NaN</td>\n",
       "      <td>NaN</td>\n",
       "    </tr>\n",
       "  </tbody>\n",
       "</table>\n",
       "</div>"
      ],
      "text/plain": [
       "            df    sum_sq   mean_sq         F    PR(>F)\n",
       "water      2.0  0.628333  0.314167  1.147515  0.333584\n",
       "sun        2.0  3.461833  1.730917  6.322290  0.005997\n",
       "Residual  25.0  6.844500  0.273780       NaN       NaN"
      ]
     },
     "execution_count": 15,
     "metadata": {},
     "output_type": "execute_result"
    }
   ],
   "source": [
    "ano2test2"
   ]
  },
  {
   "cell_type": "markdown",
   "id": "8a858b41-9b7b-4838-a3ae-402f2f5f7668",
   "metadata": {},
   "source": [
    "water*sun: p-value = 0.136537 > 0.05, retain H0\n",
    "\n",
    "H₀ (Null Hypothesis): There is no interaction effect between watering frequency and sunlight exposure on plant height."
   ]
  },
  {
   "cell_type": "markdown",
   "id": "e5662ca2-9387-4b27-b8c2-27efcc372fe2",
   "metadata": {},
   "source": [
    "## Summary:"
   ]
  },
  {
   "cell_type": "markdown",
   "id": "c9b9d58d-eb6b-4e12-938c-c6b9a71d86a4",
   "metadata": {},
   "source": [
    "H0 is true - The mean of plant height is not significantly different for all the watering frequencies\n",
    "\n",
    "H0 is false - The mean of plant height is significantly different for all sunlight exposure.\n",
    "\n",
    "H0 is true - The mean plant of height is not significantly affected by the interaction between watering frequency and sunlight exposure."
   ]
  },
  {
   "cell_type": "markdown",
   "id": "d3b90cd1-d8dd-4d43-af00-be11b1ad578b",
   "metadata": {},
   "source": [
    "## Inference:"
   ]
  },
  {
   "cell_type": "markdown",
   "id": "d226b672-6a8f-4bf0-b3ed-4f4dd7344796",
   "metadata": {},
   "source": [
    "In this scenario, the primary driver for changes in plant height \n",
    "is sunlight exposure, while watering frequency alone is not \n",
    "a significant factor. There is no combined effect between the two factors."
   ]
  }
 ],
 "metadata": {
  "kernelspec": {
   "display_name": "Python 3 (ipykernel)",
   "language": "python",
   "name": "python3"
  },
  "language_info": {
   "codemirror_mode": {
    "name": "ipython",
    "version": 3
   },
   "file_extension": ".py",
   "mimetype": "text/x-python",
   "name": "python",
   "nbconvert_exporter": "python",
   "pygments_lexer": "ipython3",
   "version": "3.12.4"
  }
 },
 "nbformat": 4,
 "nbformat_minor": 5
}
